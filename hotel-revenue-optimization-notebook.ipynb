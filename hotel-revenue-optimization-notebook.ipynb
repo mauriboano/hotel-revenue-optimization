{
 "cells": [
  {
   "cell_type": "markdown",
   "metadata": {},
   "source": [
    "### Aaron Olvier, UVA (ao9au)\n",
    "### Anvar Sabarnov, UVA (as5da)\n",
    "### Maurizio Boano, UVA (mb6fs)\n",
    "### Monish Dadlani, UVA (mkd7q)\n",
    "\n",
    "## DS5559 Final Project: Hotel Revenue Optimization"
   ]
  },
  {
   "cell_type": "markdown",
   "metadata": {},
   "source": [
    "## Setup"
   ]
  },
  {
   "cell_type": "code",
   "execution_count": 1,
   "metadata": {},
   "outputs": [],
   "source": [
    "import pandas as pd\n",
    "import numpy as np\n",
    "import matplotlib.pyplot as plt\n",
    "import plotly.express as px\n",
    "import locale\n",
    "import os\n",
    "import seaborn as sns\n",
    "\n",
    "from pyspark.sql import SparkSession\n",
    "from pyspark.sql.functions import col, udf, concat_ws, to_timestamp\n",
    "from pyspark.sql.types import *\n",
    "from pyspark.sql import functions as f\n",
    "from pyspark.sql.window import Window\n",
    "\n",
    "from pyspark.ml.classification import LogisticRegression, RandomForestClassifier, LinearSVC\n",
    "from pyspark.ml.evaluation import BinaryClassificationEvaluator\n",
    "from pyspark.ml.tuning import CrossValidator, ParamGridBuilder\n",
    "from pyspark.ml.feature import VectorAssembler, OneHotEncoder, OneHotEncoderModel, VectorIndexer, StringIndexer, MaxAbsScaler, StandardScaler\n",
    "from pyspark.ml import Pipeline"
   ]
  },
  {
   "cell_type": "code",
   "execution_count": 2,
   "metadata": {},
   "outputs": [],
   "source": [
    "# set currency\n",
    "locale.setlocale(locale.LC_ALL, '')\n",
    "\n",
    "# read in raw data\n",
    "hc = pd.read_csv(\"hotel_bookings.csv\")"
   ]
  },
  {
   "cell_type": "markdown",
   "metadata": {},
   "source": [
    "#### Records, columns counts"
   ]
  },
  {
   "cell_type": "code",
   "execution_count": 3,
   "metadata": {},
   "outputs": [
    {
     "name": "stdout",
     "output_type": "stream",
     "text": [
      "Number of records is 119390\n",
      "Number of columns is 32\n"
     ]
    }
   ],
   "source": [
    "print(\"Number of records is {}\".format(len(hc)))\n",
    "print(\"Number of columns is {}\".format(len(hc.columns)))"
   ]
  },
  {
   "cell_type": "code",
   "execution_count": 4,
   "metadata": {},
   "outputs": [
    {
     "data": {
      "text/plain": [
       "Index(['hotel', 'is_canceled', 'lead_time', 'arrival_date_year',\n",
       "       'arrival_date_month', 'arrival_date_week_number',\n",
       "       'arrival_date_day_of_month', 'stays_in_weekend_nights',\n",
       "       'stays_in_week_nights', 'adults', 'children', 'babies', 'meal',\n",
       "       'country', 'market_segment', 'distribution_channel',\n",
       "       'is_repeated_guest', 'previous_cancellations',\n",
       "       'previous_bookings_not_canceled', 'reserved_room_type',\n",
       "       'assigned_room_type', 'booking_changes', 'deposit_type', 'agent',\n",
       "       'company', 'days_in_waiting_list', 'customer_type', 'adr',\n",
       "       'required_car_parking_spaces', 'total_of_special_requests',\n",
       "       'reservation_status', 'reservation_status_date'],\n",
       "      dtype='object')"
      ]
     },
     "execution_count": 4,
     "metadata": {},
     "output_type": "execute_result"
    }
   ],
   "source": [
    "hc.columns"
   ]
  },
  {
   "cell_type": "markdown",
   "metadata": {},
   "source": [
    "#### Splitting categorical, continuous variables; describing"
   ]
  },
  {
   "cell_type": "code",
   "execution_count": 5,
   "metadata": {},
   "outputs": [],
   "source": [
    "hc_categorical = hc[['hotel', 'is_canceled', 'arrival_date_month', 'is_repeated_guest',\n",
    "                     'meal', 'country', 'market_segment', 'distribution_channel',\n",
    "                     'is_repeated_guest', 'reserved_room_type', 'assigned_room_type', \n",
    "                     'deposit_type', 'customer_type', 'reservation_status']]\n",
    "\n",
    "categoricals = ['hotel', 'is_canceled', 'arrival_date_month', 'is_repeated_guest',\n",
    "                     'meal', 'country', 'market_segment', 'distribution_channel',\n",
    "                     'is_repeated_guest', 'reserved_room_type', 'assigned_room_type', \n",
    "                     'deposit_type', 'customer_type', 'reservation_status']\n",
    "\n",
    "hc_categorical = hc_categorical.apply(lambda x: x.astype('category'))\n",
    "\n",
    "for x in categoricals:\n",
    "    hc[x] = hc[x].astype('category')\n",
    "    \n",
    "\n",
    "hc[['company', 'agent']] = hc[['company', 'agent']].fillna(value=0)\n",
    "\n",
    "hc['agent'] = np.where(hc.agent == 0, 0, 1)    \n",
    "hc['company'] = np.where(hc.company == 0, 0, 1)    \n",
    "\n",
    "\n",
    "hc = hc.dropna()\n",
    "\n",
    "hc['children'] = hc['children'].astype(int)\n",
    "hc['agent'] = hc['agent'].astype(int)\n",
    "hc['company'] = hc['company'].astype(int)\n",
    "hc['adr'] = hc['adr'].astype(int)\n",
    "\n",
    "hc.drop([\"reservation_status\", \"reservation_status_date\"], axis = 1, inplace = True)\n",
    "\n",
    "hc.to_csv(r'transformed_data.csv')"
   ]
  },
  {
   "cell_type": "code",
   "execution_count": 6,
   "metadata": {},
   "outputs": [
    {
     "data": {
      "text/html": [
       "<div>\n",
       "<style scoped>\n",
       "    .dataframe tbody tr th:only-of-type {\n",
       "        vertical-align: middle;\n",
       "    }\n",
       "\n",
       "    .dataframe tbody tr th {\n",
       "        vertical-align: top;\n",
       "    }\n",
       "\n",
       "    .dataframe thead th {\n",
       "        text-align: right;\n",
       "    }\n",
       "</style>\n",
       "<table border=\"1\" class=\"dataframe\">\n",
       "  <thead>\n",
       "    <tr style=\"text-align: right;\">\n",
       "      <th></th>\n",
       "      <th>hotel</th>\n",
       "      <th>is_canceled</th>\n",
       "      <th>arrival_date_month</th>\n",
       "      <th>is_repeated_guest</th>\n",
       "      <th>meal</th>\n",
       "      <th>country</th>\n",
       "      <th>market_segment</th>\n",
       "      <th>distribution_channel</th>\n",
       "      <th>is_repeated_guest</th>\n",
       "      <th>reserved_room_type</th>\n",
       "      <th>assigned_room_type</th>\n",
       "      <th>deposit_type</th>\n",
       "      <th>customer_type</th>\n",
       "      <th>reservation_status</th>\n",
       "    </tr>\n",
       "  </thead>\n",
       "  <tbody>\n",
       "    <tr>\n",
       "      <th>count</th>\n",
       "      <td>119390</td>\n",
       "      <td>119390</td>\n",
       "      <td>119390</td>\n",
       "      <td>119390</td>\n",
       "      <td>119390</td>\n",
       "      <td>118902</td>\n",
       "      <td>119390</td>\n",
       "      <td>119390</td>\n",
       "      <td>119390</td>\n",
       "      <td>119390</td>\n",
       "      <td>119390</td>\n",
       "      <td>119390</td>\n",
       "      <td>119390</td>\n",
       "      <td>119390</td>\n",
       "    </tr>\n",
       "    <tr>\n",
       "      <th>unique</th>\n",
       "      <td>2</td>\n",
       "      <td>2</td>\n",
       "      <td>12</td>\n",
       "      <td>2</td>\n",
       "      <td>5</td>\n",
       "      <td>177</td>\n",
       "      <td>8</td>\n",
       "      <td>5</td>\n",
       "      <td>2</td>\n",
       "      <td>10</td>\n",
       "      <td>12</td>\n",
       "      <td>3</td>\n",
       "      <td>4</td>\n",
       "      <td>3</td>\n",
       "    </tr>\n",
       "    <tr>\n",
       "      <th>top</th>\n",
       "      <td>City Hotel</td>\n",
       "      <td>0</td>\n",
       "      <td>August</td>\n",
       "      <td>0</td>\n",
       "      <td>BB</td>\n",
       "      <td>PRT</td>\n",
       "      <td>Online TA</td>\n",
       "      <td>TA/TO</td>\n",
       "      <td>0</td>\n",
       "      <td>A</td>\n",
       "      <td>A</td>\n",
       "      <td>No Deposit</td>\n",
       "      <td>Transient</td>\n",
       "      <td>Check-Out</td>\n",
       "    </tr>\n",
       "    <tr>\n",
       "      <th>freq</th>\n",
       "      <td>79330</td>\n",
       "      <td>75166</td>\n",
       "      <td>13877</td>\n",
       "      <td>115580</td>\n",
       "      <td>92310</td>\n",
       "      <td>48590</td>\n",
       "      <td>56477</td>\n",
       "      <td>97870</td>\n",
       "      <td>115580</td>\n",
       "      <td>85994</td>\n",
       "      <td>74053</td>\n",
       "      <td>104641</td>\n",
       "      <td>89613</td>\n",
       "      <td>75166</td>\n",
       "    </tr>\n",
       "  </tbody>\n",
       "</table>\n",
       "</div>"
      ],
      "text/plain": [
       "             hotel  is_canceled arrival_date_month  is_repeated_guest    meal  \\\n",
       "count       119390       119390             119390             119390  119390   \n",
       "unique           2            2                 12                  2       5   \n",
       "top     City Hotel            0             August                  0      BB   \n",
       "freq         79330        75166              13877             115580   92310   \n",
       "\n",
       "       country market_segment distribution_channel  is_repeated_guest  \\\n",
       "count   118902         119390               119390             119390   \n",
       "unique     177              8                    5                  2   \n",
       "top        PRT      Online TA                TA/TO                  0   \n",
       "freq     48590          56477                97870             115580   \n",
       "\n",
       "       reserved_room_type assigned_room_type deposit_type customer_type  \\\n",
       "count              119390             119390       119390        119390   \n",
       "unique                 10                 12            3             4   \n",
       "top                     A                  A   No Deposit     Transient   \n",
       "freq                85994              74053       104641         89613   \n",
       "\n",
       "       reservation_status  \n",
       "count              119390  \n",
       "unique                  3  \n",
       "top             Check-Out  \n",
       "freq                75166  "
      ]
     },
     "execution_count": 6,
     "metadata": {},
     "output_type": "execute_result"
    }
   ],
   "source": [
    "hc_categorical.describe()"
   ]
  },
  {
   "cell_type": "code",
   "execution_count": 7,
   "metadata": {},
   "outputs": [
    {
     "data": {
      "text/html": [
       "<div>\n",
       "<style scoped>\n",
       "    .dataframe tbody tr th:only-of-type {\n",
       "        vertical-align: middle;\n",
       "    }\n",
       "\n",
       "    .dataframe tbody tr th {\n",
       "        vertical-align: top;\n",
       "    }\n",
       "\n",
       "    .dataframe thead th {\n",
       "        text-align: right;\n",
       "    }\n",
       "</style>\n",
       "<table border=\"1\" class=\"dataframe\">\n",
       "  <thead>\n",
       "    <tr style=\"text-align: right;\">\n",
       "      <th></th>\n",
       "      <th>adr</th>\n",
       "      <th>adults</th>\n",
       "      <th>agent</th>\n",
       "      <th>arrival_date_day_of_month</th>\n",
       "      <th>arrival_date_week_number</th>\n",
       "      <th>arrival_date_year</th>\n",
       "      <th>babies</th>\n",
       "      <th>booking_changes</th>\n",
       "      <th>children</th>\n",
       "      <th>company</th>\n",
       "      <th>days_in_waiting_list</th>\n",
       "      <th>lead_time</th>\n",
       "      <th>previous_bookings_not_canceled</th>\n",
       "      <th>previous_cancellations</th>\n",
       "      <th>required_car_parking_spaces</th>\n",
       "      <th>stays_in_week_nights</th>\n",
       "      <th>stays_in_weekend_nights</th>\n",
       "      <th>total_of_special_requests</th>\n",
       "    </tr>\n",
       "  </thead>\n",
       "  <tbody>\n",
       "    <tr>\n",
       "      <th>count</th>\n",
       "      <td>118898.000000</td>\n",
       "      <td>118898.000000</td>\n",
       "      <td>118898.000000</td>\n",
       "      <td>118898.000000</td>\n",
       "      <td>118898.000000</td>\n",
       "      <td>118898.000000</td>\n",
       "      <td>118898.000000</td>\n",
       "      <td>118898.000000</td>\n",
       "      <td>118898.000000</td>\n",
       "      <td>118898.000000</td>\n",
       "      <td>118898.000000</td>\n",
       "      <td>118898.000000</td>\n",
       "      <td>118898.000000</td>\n",
       "      <td>118898.000000</td>\n",
       "      <td>118898.000000</td>\n",
       "      <td>118898.000000</td>\n",
       "      <td>118898.000000</td>\n",
       "      <td>118898.000000</td>\n",
       "    </tr>\n",
       "    <tr>\n",
       "      <th>mean</th>\n",
       "      <td>101.798424</td>\n",
       "      <td>1.858391</td>\n",
       "      <td>0.865397</td>\n",
       "      <td>15.800880</td>\n",
       "      <td>27.166555</td>\n",
       "      <td>2016.157656</td>\n",
       "      <td>0.007948</td>\n",
       "      <td>0.221181</td>\n",
       "      <td>0.104207</td>\n",
       "      <td>0.055703</td>\n",
       "      <td>2.330754</td>\n",
       "      <td>104.311435</td>\n",
       "      <td>0.131634</td>\n",
       "      <td>0.087142</td>\n",
       "      <td>0.061885</td>\n",
       "      <td>2.502145</td>\n",
       "      <td>0.928897</td>\n",
       "      <td>0.571683</td>\n",
       "    </tr>\n",
       "    <tr>\n",
       "      <th>std</th>\n",
       "      <td>50.473686</td>\n",
       "      <td>0.578576</td>\n",
       "      <td>0.341300</td>\n",
       "      <td>8.780324</td>\n",
       "      <td>13.589971</td>\n",
       "      <td>0.707459</td>\n",
       "      <td>0.097380</td>\n",
       "      <td>0.652785</td>\n",
       "      <td>0.399172</td>\n",
       "      <td>0.229349</td>\n",
       "      <td>17.630452</td>\n",
       "      <td>106.903309</td>\n",
       "      <td>1.484672</td>\n",
       "      <td>0.845869</td>\n",
       "      <td>0.244172</td>\n",
       "      <td>1.900168</td>\n",
       "      <td>0.996216</td>\n",
       "      <td>0.792678</td>\n",
       "    </tr>\n",
       "    <tr>\n",
       "      <th>min</th>\n",
       "      <td>-6.000000</td>\n",
       "      <td>0.000000</td>\n",
       "      <td>0.000000</td>\n",
       "      <td>1.000000</td>\n",
       "      <td>1.000000</td>\n",
       "      <td>2015.000000</td>\n",
       "      <td>0.000000</td>\n",
       "      <td>0.000000</td>\n",
       "      <td>0.000000</td>\n",
       "      <td>0.000000</td>\n",
       "      <td>0.000000</td>\n",
       "      <td>0.000000</td>\n",
       "      <td>0.000000</td>\n",
       "      <td>0.000000</td>\n",
       "      <td>0.000000</td>\n",
       "      <td>0.000000</td>\n",
       "      <td>0.000000</td>\n",
       "      <td>0.000000</td>\n",
       "    </tr>\n",
       "    <tr>\n",
       "      <th>25%</th>\n",
       "      <td>70.000000</td>\n",
       "      <td>2.000000</td>\n",
       "      <td>1.000000</td>\n",
       "      <td>8.000000</td>\n",
       "      <td>16.000000</td>\n",
       "      <td>2016.000000</td>\n",
       "      <td>0.000000</td>\n",
       "      <td>0.000000</td>\n",
       "      <td>0.000000</td>\n",
       "      <td>0.000000</td>\n",
       "      <td>0.000000</td>\n",
       "      <td>18.000000</td>\n",
       "      <td>0.000000</td>\n",
       "      <td>0.000000</td>\n",
       "      <td>0.000000</td>\n",
       "      <td>1.000000</td>\n",
       "      <td>0.000000</td>\n",
       "      <td>0.000000</td>\n",
       "    </tr>\n",
       "    <tr>\n",
       "      <th>50%</th>\n",
       "      <td>95.000000</td>\n",
       "      <td>2.000000</td>\n",
       "      <td>1.000000</td>\n",
       "      <td>16.000000</td>\n",
       "      <td>28.000000</td>\n",
       "      <td>2016.000000</td>\n",
       "      <td>0.000000</td>\n",
       "      <td>0.000000</td>\n",
       "      <td>0.000000</td>\n",
       "      <td>0.000000</td>\n",
       "      <td>0.000000</td>\n",
       "      <td>69.000000</td>\n",
       "      <td>0.000000</td>\n",
       "      <td>0.000000</td>\n",
       "      <td>0.000000</td>\n",
       "      <td>2.000000</td>\n",
       "      <td>1.000000</td>\n",
       "      <td>0.000000</td>\n",
       "    </tr>\n",
       "    <tr>\n",
       "      <th>75%</th>\n",
       "      <td>126.000000</td>\n",
       "      <td>2.000000</td>\n",
       "      <td>1.000000</td>\n",
       "      <td>23.000000</td>\n",
       "      <td>38.000000</td>\n",
       "      <td>2017.000000</td>\n",
       "      <td>0.000000</td>\n",
       "      <td>0.000000</td>\n",
       "      <td>0.000000</td>\n",
       "      <td>0.000000</td>\n",
       "      <td>0.000000</td>\n",
       "      <td>161.000000</td>\n",
       "      <td>0.000000</td>\n",
       "      <td>0.000000</td>\n",
       "      <td>0.000000</td>\n",
       "      <td>3.000000</td>\n",
       "      <td>2.000000</td>\n",
       "      <td>1.000000</td>\n",
       "    </tr>\n",
       "    <tr>\n",
       "      <th>max</th>\n",
       "      <td>5400.000000</td>\n",
       "      <td>55.000000</td>\n",
       "      <td>1.000000</td>\n",
       "      <td>31.000000</td>\n",
       "      <td>53.000000</td>\n",
       "      <td>2017.000000</td>\n",
       "      <td>10.000000</td>\n",
       "      <td>21.000000</td>\n",
       "      <td>10.000000</td>\n",
       "      <td>1.000000</td>\n",
       "      <td>391.000000</td>\n",
       "      <td>737.000000</td>\n",
       "      <td>72.000000</td>\n",
       "      <td>26.000000</td>\n",
       "      <td>8.000000</td>\n",
       "      <td>41.000000</td>\n",
       "      <td>16.000000</td>\n",
       "      <td>5.000000</td>\n",
       "    </tr>\n",
       "  </tbody>\n",
       "</table>\n",
       "</div>"
      ],
      "text/plain": [
       "                 adr         adults          agent  arrival_date_day_of_month  \\\n",
       "count  118898.000000  118898.000000  118898.000000              118898.000000   \n",
       "mean      101.798424       1.858391       0.865397                  15.800880   \n",
       "std        50.473686       0.578576       0.341300                   8.780324   \n",
       "min        -6.000000       0.000000       0.000000                   1.000000   \n",
       "25%        70.000000       2.000000       1.000000                   8.000000   \n",
       "50%        95.000000       2.000000       1.000000                  16.000000   \n",
       "75%       126.000000       2.000000       1.000000                  23.000000   \n",
       "max      5400.000000      55.000000       1.000000                  31.000000   \n",
       "\n",
       "       arrival_date_week_number  arrival_date_year         babies  \\\n",
       "count             118898.000000      118898.000000  118898.000000   \n",
       "mean                  27.166555        2016.157656       0.007948   \n",
       "std                   13.589971           0.707459       0.097380   \n",
       "min                    1.000000        2015.000000       0.000000   \n",
       "25%                   16.000000        2016.000000       0.000000   \n",
       "50%                   28.000000        2016.000000       0.000000   \n",
       "75%                   38.000000        2017.000000       0.000000   \n",
       "max                   53.000000        2017.000000      10.000000   \n",
       "\n",
       "       booking_changes       children        company  days_in_waiting_list  \\\n",
       "count    118898.000000  118898.000000  118898.000000         118898.000000   \n",
       "mean          0.221181       0.104207       0.055703              2.330754   \n",
       "std           0.652785       0.399172       0.229349             17.630452   \n",
       "min           0.000000       0.000000       0.000000              0.000000   \n",
       "25%           0.000000       0.000000       0.000000              0.000000   \n",
       "50%           0.000000       0.000000       0.000000              0.000000   \n",
       "75%           0.000000       0.000000       0.000000              0.000000   \n",
       "max          21.000000      10.000000       1.000000            391.000000   \n",
       "\n",
       "           lead_time  previous_bookings_not_canceled  previous_cancellations  \\\n",
       "count  118898.000000                   118898.000000           118898.000000   \n",
       "mean      104.311435                        0.131634                0.087142   \n",
       "std       106.903309                        1.484672                0.845869   \n",
       "min         0.000000                        0.000000                0.000000   \n",
       "25%        18.000000                        0.000000                0.000000   \n",
       "50%        69.000000                        0.000000                0.000000   \n",
       "75%       161.000000                        0.000000                0.000000   \n",
       "max       737.000000                       72.000000               26.000000   \n",
       "\n",
       "       required_car_parking_spaces  stays_in_week_nights  \\\n",
       "count                118898.000000         118898.000000   \n",
       "mean                      0.061885              2.502145   \n",
       "std                       0.244172              1.900168   \n",
       "min                       0.000000              0.000000   \n",
       "25%                       0.000000              1.000000   \n",
       "50%                       0.000000              2.000000   \n",
       "75%                       0.000000              3.000000   \n",
       "max                       8.000000             41.000000   \n",
       "\n",
       "       stays_in_weekend_nights  total_of_special_requests  \n",
       "count            118898.000000              118898.000000  \n",
       "mean                  0.928897                   0.571683  \n",
       "std                   0.996216                   0.792678  \n",
       "min                   0.000000                   0.000000  \n",
       "25%                   0.000000                   0.000000  \n",
       "50%                   1.000000                   0.000000  \n",
       "75%                   2.000000                   1.000000  \n",
       "max                  16.000000                   5.000000  "
      ]
     },
     "execution_count": 7,
     "metadata": {},
     "output_type": "execute_result"
    }
   ],
   "source": [
    "hc_numerical = hc[hc.columns.difference(hc_categorical.columns).tolist()]\n",
    "hc_numerical.describe()"
   ]
  },
  {
   "cell_type": "markdown",
   "metadata": {},
   "source": [
    "## Preprocessing"
   ]
  },
  {
   "cell_type": "code",
   "execution_count": 14,
   "metadata": {},
   "outputs": [],
   "source": [
    "# MODULES, CONTEXT, AND PATHING\n",
    "spark = SparkSession.builder \\\n",
    "        .master(\"local\") \\\n",
    "        .appName(\"mllib_classifier\") \\\n",
    "        .getOrCreate()\n",
    "\n",
    "sc = spark.sparkContext\n",
    "\n",
    "schema = [StructField('Index', IntegerType(), True),\n",
    "            StructField('hotel', StringType(), True),\n",
    "            StructField('is_canceled', IntegerType(), True),\n",
    "            StructField('lead_time', IntegerType(), True),\n",
    "            StructField('arrival_date_year', IntegerType(), True),\n",
    "            StructField('arrival_date_month', StringType(), True),\n",
    "            StructField('arrival_date_week_number', IntegerType(), True),\n",
    "            StructField('arrival_date_day_of_month', IntegerType(), True),\n",
    "            StructField('stays_in_weekend_nights', IntegerType(), True),\n",
    "            StructField('stays_in_week_nights', IntegerType(), True),\n",
    "            StructField('adults', IntegerType(), True),\n",
    "            StructField('children', IntegerType(), True),\n",
    "            StructField('babies', IntegerType(), True),\n",
    "            StructField('meal', StringType(), True),\n",
    "            StructField('country', StringType(), True),\n",
    "            StructField('market_segment', StringType(), True),\n",
    "            StructField('distribution_channel', StringType(), True),\n",
    "            StructField('is_repeated_guest', IntegerType(), True),\n",
    "            StructField('previous_cancellations', IntegerType(), True),\n",
    "            StructField('previous_bookings_not_canceled', IntegerType(), True),\n",
    "            StructField('reserved_room_type', StringType(), True),\n",
    "            StructField('assigned_room_type', StringType(), True),\n",
    "            StructField('booking_changes', IntegerType(), True),\n",
    "            StructField('deposit_type', StringType(), True),\n",
    "            StructField('agent', IntegerType(), True),\n",
    "            StructField('company', IntegerType(), True),\n",
    "            StructField('days_in_waiting_list', IntegerType(), True),\n",
    "            StructField('customer_type', StringType(), True),\n",
    "            StructField('adr', IntegerType(), True),\n",
    "            StructField('required_car_parking_spaces', IntegerType(), True),\n",
    "            StructField('total_of_special_requests', IntegerType(), True)]\n",
    "\n",
    "final_struc = StructType(fields=schema)\n",
    "\n",
    "df = spark.read.csv(\"transformed_data.csv\", header = True, schema=final_struc)\n"
   ]
  },
  {
   "cell_type": "code",
   "execution_count": 15,
   "metadata": {},
   "outputs": [],
   "source": [
    "categorical_columns = ['hotel', 'arrival_date_month',\n",
    "                     'meal', 'country', 'market_segment', 'distribution_channel',\n",
    "                      'reserved_room_type', 'assigned_room_type', \n",
    "                     'deposit_type', 'customer_type']\n",
    "\n",
    "# The index of string values multiple columns\n",
    "indexers = [\n",
    "    StringIndexer(inputCol=c, outputCol=\"{0}_indexed\".format(c))\n",
    "    for c in categorical_columns\n",
    "]\n",
    "\n",
    "# The encode of indexed vlaues multiple columns\n",
    "encoders = [OneHotEncoder(dropLast=False,inputCol=indexer.getOutputCol(),\n",
    "            outputCol=\"{0}_encoded\".format(indexer.getOutputCol())) \n",
    "    for indexer in indexers\n",
    "]\n",
    "\n",
    "pipeline = Pipeline(stages=indexers + encoders)\n",
    "model=pipeline.fit(df)\n",
    "transformed = model.transform(df)"
   ]
  },
  {
   "cell_type": "markdown",
   "metadata": {},
   "source": [
    "## Training, Testing, Validation Splits"
   ]
  },
  {
   "cell_type": "code",
   "execution_count": 16,
   "metadata": {},
   "outputs": [],
   "source": [
    "# Create lookup table\n",
    "months = spark.createDataFrame([('January', '1'), ('February', '2'),('March', '3'),('April', '4'), ('May', '5'), ('June', '6'),('July','7'), ('August', '8'),\n",
    "                                ('September', '9'), ('October', '10'), ('November', '11'), ('December', '12')],['month_txt', 'month_num'])\n",
    "# Join data to lookup table\n",
    "transformed = transformed.join(months, transformed.arrival_date_month == months.month_txt).select(transformed['*'],months.month_num)\n",
    "# Create data column\n",
    "transformed = transformed.withColumn('arrival_date',concat_ws('/',transformed.month_num,transformed.arrival_date_day_of_month,transformed.arrival_date_year))\n",
    "# Convert date string to datetime\n",
    "transformed = transformed.withColumn('date', to_timestamp(transformed.arrival_date,'M/d/yyyy'))\n",
    "# Add row number\n",
    "transformed = transformed.withColumn('row_num', f.row_number().over(Window.orderBy(transformed.date)))\n",
    "# Calculate percentile of row num\n",
    "transformed = transformed.withColumn('perc_rank', f.percent_rank().over(Window.orderBy(transformed.row_num)))\n",
    "# Create validation set\n",
    "condition = col('perc_rank') > .8\n",
    "validation = transformed.filter(condition)\n",
    "transformed = transformed.filter(~condition)"
   ]
  },
  {
   "cell_type": "code",
   "execution_count": 17,
   "metadata": {},
   "outputs": [],
   "source": [
    "cols = ['hotel_indexed', 'lead_time', 'arrival_date_year','arrival_date_month_indexed','arrival_date_week_number',\n",
    "                                       'arrival_date_day_of_month','stays_in_weekend_nights','stays_in_week_nights','adults',\n",
    "                                       'children','babies','meal_indexed','country_indexed','market_segment_indexed','distribution_channel_indexed','is_repeated_guest',\n",
    "                                       'previous_cancellations','previous_bookings_not_canceled','reserved_room_type_indexed','assigned_room_type_indexed',\n",
    "                                       'booking_changes','deposit_type_indexed','agent','company','days_in_waiting_list','customer_type_indexed','adr',\n",
    "                                       'required_car_parking_spaces','total_of_special_requests']\n",
    "\n",
    "\n",
    "assembler = VectorAssembler(inputCols=cols, outputCol=\"features\") \n",
    "transformed = assembler.transform(transformed)\n",
    "validation = assembler.transform(validation)"
   ]
  },
  {
   "cell_type": "code",
   "execution_count": 18,
   "metadata": {},
   "outputs": [
    {
     "name": "stdout",
     "output_type": "stream",
     "text": [
      "root\n",
      " |-- label: integer (nullable = true)\n",
      " |-- features: vector (nullable = true)\n",
      "\n"
     ]
    }
   ],
   "source": [
    "validation_data = validation.select(col(\"is_canceled\").alias(\"label\"), \"features\")\n",
    "validation_data.printSchema()"
   ]
  },
  {
   "cell_type": "code",
   "execution_count": 19,
   "metadata": {},
   "outputs": [
    {
     "name": "stdout",
     "output_type": "stream",
     "text": [
      "root\n",
      " |-- label: integer (nullable = true)\n",
      " |-- features: vector (nullable = true)\n",
      "\n"
     ]
    }
   ],
   "source": [
    "model_data = transformed.select(col(\"is_canceled\").alias(\"label\"), \"features\")\n",
    "model_data.printSchema()"
   ]
  },
  {
   "cell_type": "code",
   "execution_count": 20,
   "metadata": {},
   "outputs": [],
   "source": [
    "training, test = model_data.randomSplit([0.75, 0.25], seed=314)"
   ]
  },
  {
   "cell_type": "code",
   "execution_count": 21,
   "metadata": {},
   "outputs": [
    {
     "name": "stdout",
     "output_type": "stream",
     "text": [
      "training: 59.85%\n",
      "test: 19.91%\n",
      "validation: 19.94%\n"
     ]
    }
   ],
   "source": [
    "# validating splits\n",
    "\n",
    "percent_training = training.selectExpr(\"count(*)/119258 AS percent_training\").collect()[0][0]\n",
    "percent_test = test.selectExpr(\"count(*)/119258 AS percent_test\").collect()[0][0]\n",
    "percent_validation = validation_data.selectExpr(\"count(*)/119258 AS percent_validation\").collect()[0][0]\n",
    "\n",
    "print(\"training: \"+str(round(percent_training*100, 2))+\"%\")\n",
    "print(\"test: \"+str(round(percent_test*100, 2))+\"%\")\n",
    "print(\"validation: \"+str(round(percent_validation*100, 2))+\"%\")"
   ]
  },
  {
   "cell_type": "markdown",
   "metadata": {},
   "source": [
    "## Scaling Features"
   ]
  },
  {
   "cell_type": "code",
   "execution_count": 22,
   "metadata": {},
   "outputs": [],
   "source": [
    "# Compute summary statistics and generate MaxAbsScalerModel based on training set\n",
    "# scaler = MaxAbsScaler(inputCol=\"features\", outputCol=\"scaledFeatures\")\n",
    "scaler = StandardScaler(inputCol=\"features\", outputCol=\"scaledFeatures\", withStd=True, withMean=True)\n",
    "\n",
    "scalerModel = scaler.fit(training)\n",
    "\n",
    "# Apply scaling to all three datasets and rename scaledFeatures to features column\n",
    "scaled_training = scalerModel.transform(training)\n",
    "scaled_training = scaled_training.selectExpr(\"label\", \"scaledFeatures AS features\")\n",
    "\n",
    "scaled_test = scalerModel.transform(test)\n",
    "scaled_test = scaled_test.selectExpr(\"label\", \"scaledFeatures AS features\")\n",
    "\n",
    "scaled_validation = scalerModel.transform(validation_data)\n",
    "scaled_validation = scaled_validation.selectExpr(\"label\", \"scaledFeatures AS features\")"
   ]
  },
  {
   "cell_type": "code",
   "execution_count": 23,
   "metadata": {
    "scrolled": true
   },
   "outputs": [],
   "source": [
    "# scaled_training.show(1, False)"
   ]
  },
  {
   "cell_type": "markdown",
   "metadata": {},
   "source": [
    "## Threshold Evaluation Function"
   ]
  },
  {
   "cell_type": "code",
   "execution_count": 24,
   "metadata": {},
   "outputs": [
    {
     "name": "stdout",
     "output_type": "stream",
     "text": [
      "avg stay: 3.4 days\n",
      "avg daily rate: $99.99\n",
      "\n",
      "hotels are not legally allowed to overbook\n",
      "\n",
      "ASSUMPTIONS\n",
      "-70.6% occupancy rate (based on 2016 average for all of Europe)\n",
      "-$0 cancellation fee with full refund (so hotel is motivated to identify people who are likely to cancel)\n",
      "-50% response rate for both groups (not everyone answers our call/email)\n",
      "-70% capture rate for group that cancels (that they are willing to cancel at the time of contact)\n",
      "-25% of people who were not previously going to cancel will now cancel (due to us contacting them about cancelling)\n"
     ]
    }
   ],
   "source": [
    "# printing relevant assumptions\n",
    "\n",
    "print(\"avg stay: {0} days\".format(round((hc.stays_in_weekend_nights + hc.stays_in_week_nights).mean(), 2)))\n",
    "print(\"avg daily rate: {0}\".format(locale.currency(hc.adr.mean(), grouping = True)))\n",
    "\n",
    "print(\"\")\n",
    "# https://www.law.cornell.edu/wex/overbooking\n",
    "print(\"hotels are not legally allowed to overbook\")\n",
    "print(\"\")\n",
    "print(\"ASSUMPTIONS\")\n",
    "# https://www.hotelnewsnow.com/Articles/108398/STR-2016-Europe-hotel-performance\n",
    "print(\"-70.6% occupancy rate (based on 2016 average for all of Europe)\")\n",
    "print(\"-$0 cancellation fee with full refund (so hotel is motivated to identify people who are likely to cancel)\")\n",
    "print(\"-50% response rate for both groups (not everyone answers our call/email)\")\n",
    "print(\"-70% capture rate for group that cancels (that they are willing to cancel at the time of contact)\")\n",
    "print(\"-25% of people who were not previously going to cancel will now cancel (due to us contacting them about cancelling)\")"
   ]
  },
  {
   "cell_type": "code",
   "execution_count": 25,
   "metadata": {},
   "outputs": [],
   "source": [
    "# threshold function to maximize net revenue\n",
    "\n",
    "def net_rev(df, thresholds = None, avg_adr = 101.80, occ_rate = 0.704, avg_stay = 3.43, resp = 0.5, timing = 0.7, loss = 0.25):\n",
    "    if (type(thresholds) == list) or (type(thresholds) == np.ndarray):\n",
    "        \n",
    "        output = pd.DataFrame(columns = ['threshold', 'net_rev'])\n",
    "\n",
    "        for i in thresholds:\n",
    "            preds_and_labels = df.withColumn(\"prediction\", f.when(df[\"prob_of_one\"]>i, 1).otherwise(0)).selectExpr(\"prediction\", \"label\")\n",
    "            tp = preds_and_labels[(preds_and_labels.label == 1) & (preds_and_labels.prediction == 1)].count()\n",
    "            fp = preds_and_labels[(preds_and_labels.label == 0) & (preds_and_labels.prediction == 1)].count()\n",
    "            rev_gain = (tp*avg_adr*avg_stay*occ_rate*resp*timing) \n",
    "            rev_lost = (fp*avg_adr*avg_stay*(1-occ_rate)*resp*loss)\n",
    "            net_rev = rev_gain - rev_lost\n",
    "            output = output.append({'threshold' : i, 'net_rev' : net_rev}, ignore_index = True)\n",
    "\n",
    "        best_thresh = output.iloc[output.net_rev.idxmax()][\"threshold\"]\n",
    "        max_rev = output.net_rev.max()\n",
    "        print(\"Optimal threshold to maximize revenue from options provided is: {0}\".format(best_thresh))\n",
    "        print(\"Estimated net revenue generated with best threshold is: {0}\".format(locale.currency(max_rev, grouping = True)))\n",
    "        plt.plot(output.threshold, output.net_rev, marker = \"o\")\n",
    "        plt.plot(best_thresh, max_rev, \"ro\")\n",
    "        plt.show()\n",
    "        \n",
    "        return output\n",
    "    \n",
    "    elif (type(thresholds) == float) or (type(thresholds) == int) :\n",
    "        \n",
    "        preds_and_labels = df.withColumn(\"prediction\", f.when(df[\"prob_of_one\"]>thresholds, 1).otherwise(0)).selectExpr(\"prediction\", \"label\")\n",
    "        tp = preds_and_labels[(preds_and_labels.label == 1) & (preds_and_labels.prediction == 1)].count()\n",
    "        fp = preds_and_labels[(preds_and_labels.label == 0) & (preds_and_labels.prediction == 1)].count()\n",
    "        rev_gain = (tp*avg_adr*avg_stay*occ_rate*resp*timing) \n",
    "        rev_lost = (fp*avg_adr*avg_stay*(1-occ_rate)*resp*loss)\n",
    "        net_rev = rev_gain - rev_lost\n",
    "        \n",
    "        print(\"Estimated net revenue generated with given threshold is: {0}\".format(locale.currency(net_rev, grouping = True)))\n",
    "        \n",
    "        return net_rev\n",
    "    \n",
    "    elif type(thresholds) == type(None):\n",
    "        preds_and_labels = df.selectExpr(\"CAST(prediction AS int) AS prediction\", \"label\")\n",
    "        tp = preds_and_labels[(preds_and_labels.label == 1) & (preds_and_labels.prediction == 1)].count()\n",
    "        fp = preds_and_labels[(preds_and_labels.label == 0) & (preds_and_labels.prediction == 1)].count()\n",
    "        rev_gain = (tp*avg_adr*avg_stay*occ_rate*resp*timing) \n",
    "        rev_lost = (fp*avg_adr*avg_stay*(1-occ_rate)*resp*loss)\n",
    "        net_rev = rev_gain - rev_lost\n",
    "        \n",
    "        print(\"Estimated net revenue generated with given threshold is: {0}\".format(locale.currency(net_rev, grouping = True)))\n",
    "        \n",
    "        return net_rev"
   ]
  },
  {
   "cell_type": "markdown",
   "metadata": {},
   "source": [
    "## Logistic"
   ]
  },
  {
   "cell_type": "code",
   "execution_count": 26,
   "metadata": {},
   "outputs": [],
   "source": [
    "# Train a log model.\n",
    "lr = LogisticRegression(maxIter=100)\n",
    "\n",
    "# Chain indexer and forest in a Pipeline\n",
    "pipeline = Pipeline(stages=[lr])\n",
    "\n",
    "# Create Parameter grid\n",
    "paramGrid = ParamGridBuilder() \\\n",
    "    .addGrid(lr.regParam, [0, 0.5, 1]) \\\n",
    "    .addGrid(lr.elasticNetParam, [0,.5, 1]) \\\n",
    "    .build()\n",
    "\n",
    "# crossvalidator object\n",
    "crossval = CrossValidator(estimator=pipeline,\n",
    "                          estimatorParamMaps=paramGrid,\n",
    "                          evaluator=BinaryClassificationEvaluator(metricName=\"areaUnderPR\"),\n",
    "                          numFolds=5)\n",
    "\n",
    "# Train model.  This also runs the indexer.\n",
    "log_model = crossval.fit(training)"
   ]
  },
  {
   "cell_type": "code",
   "execution_count": 27,
   "metadata": {},
   "outputs": [
    {
     "data": {
      "text/html": [
       "<div>\n",
       "<style scoped>\n",
       "    .dataframe tbody tr th:only-of-type {\n",
       "        vertical-align: middle;\n",
       "    }\n",
       "\n",
       "    .dataframe tbody tr th {\n",
       "        vertical-align: top;\n",
       "    }\n",
       "\n",
       "    .dataframe thead th {\n",
       "        text-align: right;\n",
       "    }\n",
       "</style>\n",
       "<table border=\"1\" class=\"dataframe\">\n",
       "  <thead>\n",
       "    <tr style=\"text-align: right;\">\n",
       "      <th></th>\n",
       "      <th>areaUnderPR</th>\n",
       "      <th>regParam</th>\n",
       "      <th>elasticNetParam</th>\n",
       "    </tr>\n",
       "  </thead>\n",
       "  <tbody>\n",
       "    <tr>\n",
       "      <th>0</th>\n",
       "      <td>0.800938</td>\n",
       "      <td>0.0</td>\n",
       "      <td>0.0</td>\n",
       "    </tr>\n",
       "    <tr>\n",
       "      <th>1</th>\n",
       "      <td>0.800938</td>\n",
       "      <td>0.0</td>\n",
       "      <td>0.5</td>\n",
       "    </tr>\n",
       "    <tr>\n",
       "      <th>2</th>\n",
       "      <td>0.800938</td>\n",
       "      <td>0.0</td>\n",
       "      <td>1.0</td>\n",
       "    </tr>\n",
       "    <tr>\n",
       "      <th>3</th>\n",
       "      <td>0.779028</td>\n",
       "      <td>0.5</td>\n",
       "      <td>0.0</td>\n",
       "    </tr>\n",
       "    <tr>\n",
       "      <th>4</th>\n",
       "      <td>0.362963</td>\n",
       "      <td>0.5</td>\n",
       "      <td>0.5</td>\n",
       "    </tr>\n",
       "    <tr>\n",
       "      <th>5</th>\n",
       "      <td>0.362963</td>\n",
       "      <td>0.5</td>\n",
       "      <td>1.0</td>\n",
       "    </tr>\n",
       "    <tr>\n",
       "      <th>6</th>\n",
       "      <td>0.772279</td>\n",
       "      <td>1.0</td>\n",
       "      <td>0.0</td>\n",
       "    </tr>\n",
       "    <tr>\n",
       "      <th>7</th>\n",
       "      <td>0.362963</td>\n",
       "      <td>1.0</td>\n",
       "      <td>0.5</td>\n",
       "    </tr>\n",
       "    <tr>\n",
       "      <th>8</th>\n",
       "      <td>0.362963</td>\n",
       "      <td>1.0</td>\n",
       "      <td>1.0</td>\n",
       "    </tr>\n",
       "  </tbody>\n",
       "</table>\n",
       "</div>"
      ],
      "text/plain": [
       "   areaUnderPR  regParam  elasticNetParam\n",
       "0     0.800938       0.0              0.0\n",
       "1     0.800938       0.0              0.5\n",
       "2     0.800938       0.0              1.0\n",
       "3     0.779028       0.5              0.0\n",
       "4     0.362963       0.5              0.5\n",
       "5     0.362963       0.5              1.0\n",
       "6     0.772279       1.0              0.0\n",
       "7     0.362963       1.0              0.5\n",
       "8     0.362963       1.0              1.0"
      ]
     },
     "execution_count": 27,
     "metadata": {},
     "output_type": "execute_result"
    }
   ],
   "source": [
    "params = [{p.name: v for p, v in m.items()} for m in log_model.getEstimatorParamMaps()]\n",
    "\n",
    "pd.DataFrame.from_dict([\n",
    "    {log_model.getEvaluator().getMetricName(): metric, **ps} \n",
    "    for ps, metric in zip(params, log_model.avgMetrics)\n",
    "])"
   ]
  },
  {
   "cell_type": "code",
   "execution_count": 28,
   "metadata": {},
   "outputs": [
    {
     "name": "stdout",
     "output_type": "stream",
     "text": [
      "regParam: 0.0\n",
      "elasticNetParam: 0.0\n"
     ]
    }
   ],
   "source": [
    "log_bestModel = log_model.bestModel\n",
    "\n",
    "print(\"regParam: \"+str(log_bestModel.stages[0]._java_obj.getRegParam()))\n",
    "print(\"elasticNetParam: \"+str(log_bestModel.stages[0]._java_obj.getElasticNetParam()))"
   ]
  },
  {
   "cell_type": "code",
   "execution_count": 29,
   "metadata": {},
   "outputs": [
    {
     "name": "stdout",
     "output_type": "stream",
     "text": [
      "+-----+--------------------+--------------------+--------------------+----------+-----------+\n",
      "|label|            features|       rawPrediction|         probability|prediction|prob_of_one|\n",
      "+-----+--------------------+--------------------+--------------------+----------+-----------+\n",
      "|    0|(29,[0,1,2,3,4,5,...|[1.12342605729826...|[0.75462366176101...|       0.0| 0.24537633|\n",
      "|    0|(29,[0,1,2,3,4,5,...|[0.12434998414663...|[0.53104749926392...|       0.0|  0.4689525|\n",
      "|    0|(29,[0,1,2,3,4,5,...|[3.87804160075870...|[0.97972814383751...|       0.0|0.020271856|\n",
      "|    0|(29,[0,1,2,3,4,5,...|[1.43510924111494...|[0.80769614665969...|       0.0| 0.19230385|\n",
      "|    0|(29,[0,1,2,3,4,5,...|[0.77764350727047...|[0.68517201371638...|       0.0| 0.31482798|\n",
      "+-----+--------------------+--------------------+--------------------+----------+-----------+\n",
      "only showing top 5 rows\n",
      "\n"
     ]
    }
   ],
   "source": [
    "log_model_train = log_model.transform(training)\n",
    "\n",
    "firstelement = udf(lambda v:float(v[1]),FloatType())\n",
    "\n",
    "log_model_train = log_model_train.withColumn(\"prob_of_one\", firstelement(log_model_train[\"probability\"]))\n",
    "\n",
    "log_model_train.show(5)"
   ]
  },
  {
   "cell_type": "code",
   "execution_count": 30,
   "metadata": {},
   "outputs": [
    {
     "name": "stdout",
     "output_type": "stream",
     "text": [
      "Optimal threshold to maximize revenue from options provided is: 0.1\n",
      "Estimated net revenue generated with best threshold is: $1,722,634.01\n"
     ]
    },
    {
     "data": {
      "image/png": "[encoded data removed]",
      "text/plain": [
       "<Figure size 432x288 with 1 Axes>"
      ]
     },
     "metadata": {
      "needs_background": "light"
     },
     "output_type": "display_data"
    }
   ],
   "source": [
    "thresh = np.linspace(0, 1, 11)\n",
    "rev_out = net_rev(log_model_train, thresh)"
   ]
  },
  {
   "cell_type": "code",
   "execution_count": 31,
   "metadata": {},
   "outputs": [
    {
     "name": "stdout",
     "output_type": "stream",
     "text": [
      "Optimal threshold to maximize revenue from options provided is: 0.11111111111111112\n",
      "Estimated net revenue generated with best threshold is: $1,727,514.97\n"
     ]
    },
    {
     "data": {
      "image/png": "[encoded data removed]",
      "text/plain": [
       "<Figure size 432x288 with 1 Axes>"
      ]
     },
     "metadata": {
      "needs_background": "light"
     },
     "output_type": "display_data"
    }
   ],
   "source": [
    "thresh = np.linspace(0, 0.2, 10)\n",
    "rev_out = net_rev(log_model_train, thresh)"
   ]
  },
  {
   "cell_type": "code",
   "execution_count": 32,
   "metadata": {},
   "outputs": [
    {
     "name": "stdout",
     "output_type": "stream",
     "text": [
      "+-----+--------------------+--------------------+--------------------+----------+-----------+\n",
      "|label|            features|       rawPrediction|         probability|prediction|prob_of_one|\n",
      "+-----+--------------------+--------------------+--------------------+----------+-----------+\n",
      "|    0|(29,[0,1,2,3,4,5,...|[0.95612340905522...|[0.72234497608597...|       0.0| 0.27765504|\n",
      "|    0|(29,[0,1,2,3,4,5,...|[1.39968846961180...|[0.80213444873702...|       0.0| 0.19786555|\n",
      "|    0|(29,[0,1,2,3,4,5,...|[0.38523124647473...|[0.59513419381072...|       0.0|  0.4048658|\n",
      "|    0|(29,[0,1,2,3,4,5,...|[1.60982193800076...|[0.83338666339023...|       0.0| 0.16661334|\n",
      "|    0|(29,[0,1,2,3,4,5,...|[0.44243704275597...|[0.60883957579755...|       0.0| 0.39116043|\n",
      "+-----+--------------------+--------------------+--------------------+----------+-----------+\n",
      "only showing top 5 rows\n",
      "\n"
     ]
    }
   ],
   "source": [
    "log_preds = log_model.transform(test)\n",
    "# preds.show(5, False)\n",
    "\n",
    "firstelement = udf(lambda v:float(v[1]),FloatType())\n",
    "\n",
    "log_preds = log_preds.withColumn(\"prob_of_one\", firstelement(log_preds[\"probability\"]))\n",
    "\n",
    "log_preds.show(5)"
   ]
  },
  {
   "cell_type": "code",
   "execution_count": 33,
   "metadata": {},
   "outputs": [
    {
     "name": "stdout",
     "output_type": "stream",
     "text": [
      "Estimated net revenue generated with given threshold is: $567,439.18\n"
     ]
    }
   ],
   "source": [
    "log_test_rev = net_rev(log_preds, 0.1111)"
   ]
  },
  {
   "cell_type": "markdown",
   "metadata": {},
   "source": [
    "## Random Forest"
   ]
  },
  {
   "cell_type": "code",
   "execution_count": 34,
   "metadata": {},
   "outputs": [],
   "source": [
    "# Train a RandomForest model.\n",
    "rf = RandomForestClassifier(featuresCol=\"features\", maxBins = 178, seed = 314)\n",
    "\n",
    "# Chain indexer and forest in a Pipeline\n",
    "pipeline = Pipeline(stages=[rf])\n",
    "\n",
    "# Create Parameter grid\n",
    "paramGrid = ParamGridBuilder() \\\n",
    "    .addGrid(rf.numTrees, [25, 50, 100]) \\\n",
    "    .addGrid(rf.maxDepth, [5, 10, 15]) \\\n",
    "    .build()\n",
    "\n",
    "# crossvalidator object\n",
    "crossval = CrossValidator(estimator=pipeline,\n",
    "                          estimatorParamMaps=paramGrid,\n",
    "                          evaluator=BinaryClassificationEvaluator(metricName=\"areaUnderPR\"),\n",
    "                          numFolds=5)\n",
    "\n",
    "# Train model.  This also runs the indexer.\n",
    "rf_model = crossval.fit(training)"
   ]
  },
  {
   "cell_type": "code",
   "execution_count": 35,
   "metadata": {},
   "outputs": [
    {
     "data": {
      "text/html": [
       "<div>\n",
       "<style scoped>\n",
       "    .dataframe tbody tr th:only-of-type {\n",
       "        vertical-align: middle;\n",
       "    }\n",
       "\n",
       "    .dataframe tbody tr th {\n",
       "        vertical-align: top;\n",
       "    }\n",
       "\n",
       "    .dataframe thead th {\n",
       "        text-align: right;\n",
       "    }\n",
       "</style>\n",
       "<table border=\"1\" class=\"dataframe\">\n",
       "  <thead>\n",
       "    <tr style=\"text-align: right;\">\n",
       "      <th></th>\n",
       "      <th>areaUnderPR</th>\n",
       "      <th>numTrees</th>\n",
       "      <th>maxDepth</th>\n",
       "    </tr>\n",
       "  </thead>\n",
       "  <tbody>\n",
       "    <tr>\n",
       "      <th>0</th>\n",
       "      <td>0.856748</td>\n",
       "      <td>25</td>\n",
       "      <td>5</td>\n",
       "    </tr>\n",
       "    <tr>\n",
       "      <th>1</th>\n",
       "      <td>0.907081</td>\n",
       "      <td>25</td>\n",
       "      <td>10</td>\n",
       "    </tr>\n",
       "    <tr>\n",
       "      <th>2</th>\n",
       "      <td>0.927675</td>\n",
       "      <td>25</td>\n",
       "      <td>15</td>\n",
       "    </tr>\n",
       "    <tr>\n",
       "      <th>3</th>\n",
       "      <td>0.863931</td>\n",
       "      <td>50</td>\n",
       "      <td>5</td>\n",
       "    </tr>\n",
       "    <tr>\n",
       "      <th>4</th>\n",
       "      <td>0.906976</td>\n",
       "      <td>50</td>\n",
       "      <td>10</td>\n",
       "    </tr>\n",
       "    <tr>\n",
       "      <th>5</th>\n",
       "      <td>0.928565</td>\n",
       "      <td>50</td>\n",
       "      <td>15</td>\n",
       "    </tr>\n",
       "    <tr>\n",
       "      <th>6</th>\n",
       "      <td>0.864061</td>\n",
       "      <td>100</td>\n",
       "      <td>5</td>\n",
       "    </tr>\n",
       "    <tr>\n",
       "      <th>7</th>\n",
       "      <td>0.907861</td>\n",
       "      <td>100</td>\n",
       "      <td>10</td>\n",
       "    </tr>\n",
       "    <tr>\n",
       "      <th>8</th>\n",
       "      <td>0.929406</td>\n",
       "      <td>100</td>\n",
       "      <td>15</td>\n",
       "    </tr>\n",
       "  </tbody>\n",
       "</table>\n",
       "</div>"
      ],
      "text/plain": [
       "   areaUnderPR  numTrees  maxDepth\n",
       "0     0.856748        25         5\n",
       "1     0.907081        25        10\n",
       "2     0.927675        25        15\n",
       "3     0.863931        50         5\n",
       "4     0.906976        50        10\n",
       "5     0.928565        50        15\n",
       "6     0.864061       100         5\n",
       "7     0.907861       100        10\n",
       "8     0.929406       100        15"
      ]
     },
     "execution_count": 35,
     "metadata": {},
     "output_type": "execute_result"
    }
   ],
   "source": [
    "params = [{p.name: v for p, v in m.items()} for m in rf_model.getEstimatorParamMaps()]\n",
    "\n",
    "pd.DataFrame.from_dict([\n",
    "    {rf_model.getEvaluator().getMetricName(): metric, **ps} \n",
    "    for ps, metric in zip(params, rf_model.avgMetrics)\n",
    "])"
   ]
  },
  {
   "cell_type": "code",
   "execution_count": 36,
   "metadata": {},
   "outputs": [
    {
     "name": "stdout",
     "output_type": "stream",
     "text": [
      "numTrees: 100\n",
      "maxDepth: 15\n"
     ]
    }
   ],
   "source": [
    "# Print the coefficients and intercept for logistic regression\n",
    "rf_bestModel = rf_model.bestModel\n",
    "\n",
    "print(\"numTrees: \"+str(rf_bestModel.stages[0]._java_obj.getNumTrees()))\n",
    "print(\"maxDepth: \"+str(rf_bestModel.stages[0]._java_obj.getMaxDepth()))"
   ]
  },
  {
   "cell_type": "code",
   "execution_count": 37,
   "metadata": {},
   "outputs": [
    {
     "name": "stdout",
     "output_type": "stream",
     "text": [
      "+-----+--------------------+--------------------+--------------------+----------+-----------+\n",
      "|label|            features|       rawPrediction|         probability|prediction|prob_of_one|\n",
      "+-----+--------------------+--------------------+--------------------+----------+-----------+\n",
      "|    0|(29,[0,1,2,3,4,5,...|[90.4171347605121...|[0.90417134760512...|       0.0| 0.09582865|\n",
      "|    0|(29,[0,1,2,3,4,5,...|[73.7224755704808...|[0.73722475570480...|       0.0| 0.26277524|\n",
      "|    0|(29,[0,1,2,3,4,5,...|[91.0113177378398...|[0.91011317737839...|       0.0| 0.08988682|\n",
      "|    0|(29,[0,1,2,3,4,5,...|[96.5074816712155...|[0.96507481671215...|       0.0|0.034925185|\n",
      "|    0|(29,[0,1,2,3,4,5,...|[82.8024416942744...|[0.82802441694274...|       0.0| 0.17197558|\n",
      "+-----+--------------------+--------------------+--------------------+----------+-----------+\n",
      "only showing top 5 rows\n",
      "\n"
     ]
    }
   ],
   "source": [
    "rf_model_train = rf_model.transform(training)\n",
    "\n",
    "firstelement = udf(lambda v:float(v[1]),FloatType())\n",
    "\n",
    "rf_model_train = rf_model_train.withColumn(\"prob_of_one\", firstelement(rf_model_train[\"probability\"]))\n",
    "\n",
    "rf_model_train.show(5)"
   ]
  },
  {
   "cell_type": "code",
   "execution_count": 38,
   "metadata": {},
   "outputs": [
    {
     "name": "stdout",
     "output_type": "stream",
     "text": [
      "Optimal threshold to maximize revenue from options provided is: 0.2\n",
      "Estimated net revenue generated with best threshold is: $2,057,795.72\n"
     ]
    },
    {
     "data": {
      "image/png": "[encoded data removed]",
      "text/plain": [
       "<Figure size 432x288 with 1 Axes>"
      ]
     },
     "metadata": {
      "needs_background": "light"
     },
     "output_type": "display_data"
    }
   ],
   "source": [
    "thresh = np.linspace(0, 1, 11)\n",
    "rev_out_rf = net_rev(rf_model_train, thresh)"
   ]
  },
  {
   "cell_type": "code",
   "execution_count": 39,
   "metadata": {},
   "outputs": [
    {
     "name": "stdout",
     "output_type": "stream",
     "text": [
      "Optimal threshold to maximize revenue from options provided is: 0.24\n",
      "Estimated net revenue generated with best threshold is: $2,070,713.63\n"
     ]
    },
    {
     "data": {
      "image/png": "[encoded data removed]",
      "text/plain": [
       "<Figure size 432x288 with 1 Axes>"
      ]
     },
     "metadata": {
      "needs_background": "light"
     },
     "output_type": "display_data"
    }
   ],
   "source": [
    "thresh = np.linspace(0.1, 0.3, 11)\n",
    "rev_out_rf = net_rev(rf_model_train, thresh)"
   ]
  },
  {
   "cell_type": "code",
   "execution_count": 40,
   "metadata": {},
   "outputs": [
    {
     "name": "stdout",
     "output_type": "stream",
     "text": [
      "+-----+--------------------+--------------------+--------------------+----------+-----------+\n",
      "|label|            features|       rawPrediction|         probability|prediction|prob_of_one|\n",
      "+-----+--------------------+--------------------+--------------------+----------+-----------+\n",
      "|    0|(29,[0,1,2,3,4,5,...|[92.4636384723068...|[0.92463638472306...|       0.0| 0.07536361|\n",
      "|    0|(29,[0,1,2,3,4,5,...|[81.6890396509672...|[0.81689039650967...|       0.0|  0.1831096|\n",
      "|    0|(29,[0,1,2,3,4,5,...|[91.0206262084822...|[0.91020626208482...|       0.0|0.089793734|\n",
      "|    0|(29,[0,1,2,3,4,5,...|[95.1946927117639...|[0.95194692711763...|       0.0|0.048053075|\n",
      "|    0|(29,[0,1,2,3,4,5,...|[89.3037379567077...|[0.89303737956707...|       0.0| 0.10696262|\n",
      "+-----+--------------------+--------------------+--------------------+----------+-----------+\n",
      "only showing top 5 rows\n",
      "\n"
     ]
    }
   ],
   "source": [
    "rf_preds = rf_model.transform(test)\n",
    "\n",
    "firstelement = udf(lambda v:float(v[1]),FloatType())\n",
    "\n",
    "rf_preds = rf_preds.withColumn(\"prob_of_one\", firstelement(rf_preds[\"probability\"]))\n",
    "\n",
    "rf_preds.show(5)"
   ]
  },
  {
   "cell_type": "code",
   "execution_count": 41,
   "metadata": {
    "scrolled": true
   },
   "outputs": [
    {
     "name": "stdout",
     "output_type": "stream",
     "text": [
      "Estimated net revenue generated with given threshold is: $645,689.70\n"
     ]
    }
   ],
   "source": [
    "# calc revenue with chosen threshold\n",
    "rf_test_rev = net_rev(rf_preds, 0.24)"
   ]
  },
  {
   "cell_type": "markdown",
   "metadata": {},
   "source": [
    "## SVM"
   ]
  },
  {
   "cell_type": "code",
   "execution_count": 42,
   "metadata": {},
   "outputs": [],
   "source": [
    "# Train an svm model.\n",
    "svm = LinearSVC(maxIter=10)\n",
    "\n",
    "# Chain indexer and forest in a Pipeline\n",
    "pipeline = Pipeline(stages=[svm])\n",
    "\n",
    "# Create Parameter grid\n",
    "paramGrid = ParamGridBuilder() \\\n",
    "    .addGrid(svm.regParam, [0, .1, .5, 1]) \\\n",
    "    .build()\n",
    "\n",
    "# crossvalidator object\n",
    "crossval = CrossValidator(estimator=pipeline,\n",
    "                          estimatorParamMaps=paramGrid,\n",
    "                          evaluator=BinaryClassificationEvaluator(metricName=\"areaUnderPR\"),\n",
    "                          numFolds=5)\n",
    "\n",
    "# Train model. This also runs the indexer.\n",
    "svm_model = crossval.fit(scaled_training)"
   ]
  },
  {
   "cell_type": "code",
   "execution_count": 43,
   "metadata": {},
   "outputs": [
    {
     "data": {
      "text/html": [
       "<div>\n",
       "<style scoped>\n",
       "    .dataframe tbody tr th:only-of-type {\n",
       "        vertical-align: middle;\n",
       "    }\n",
       "\n",
       "    .dataframe tbody tr th {\n",
       "        vertical-align: top;\n",
       "    }\n",
       "\n",
       "    .dataframe thead th {\n",
       "        text-align: right;\n",
       "    }\n",
       "</style>\n",
       "<table border=\"1\" class=\"dataframe\">\n",
       "  <thead>\n",
       "    <tr style=\"text-align: right;\">\n",
       "      <th></th>\n",
       "      <th>areaUnderPR</th>\n",
       "      <th>regParam</th>\n",
       "    </tr>\n",
       "  </thead>\n",
       "  <tbody>\n",
       "    <tr>\n",
       "      <th>0</th>\n",
       "      <td>0.800103</td>\n",
       "      <td>0.0</td>\n",
       "    </tr>\n",
       "    <tr>\n",
       "      <th>1</th>\n",
       "      <td>0.801067</td>\n",
       "      <td>0.1</td>\n",
       "    </tr>\n",
       "    <tr>\n",
       "      <th>2</th>\n",
       "      <td>0.770326</td>\n",
       "      <td>0.5</td>\n",
       "    </tr>\n",
       "    <tr>\n",
       "      <th>3</th>\n",
       "      <td>0.752993</td>\n",
       "      <td>1.0</td>\n",
       "    </tr>\n",
       "  </tbody>\n",
       "</table>\n",
       "</div>"
      ],
      "text/plain": [
       "   areaUnderPR  regParam\n",
       "0     0.800103       0.0\n",
       "1     0.801067       0.1\n",
       "2     0.770326       0.5\n",
       "3     0.752993       1.0"
      ]
     },
     "execution_count": 43,
     "metadata": {},
     "output_type": "execute_result"
    }
   ],
   "source": [
    "params = [{p.name: v for p, v in m.items()} for m in svm_model.getEstimatorParamMaps()]\n",
    "\n",
    "pd.DataFrame.from_dict([\n",
    "    {svm_model.getEvaluator().getMetricName(): metric, **ps} \n",
    "    for ps, metric in zip(params, svm_model.avgMetrics)\n",
    "])"
   ]
  },
  {
   "cell_type": "code",
   "execution_count": 44,
   "metadata": {},
   "outputs": [
    {
     "name": "stdout",
     "output_type": "stream",
     "text": [
      "regParam: 0.1\n"
     ]
    }
   ],
   "source": [
    "svm_bestModel = svm_model.bestModel\n",
    "\n",
    "print(\"regParam: \"+str(svm_bestModel.stages[0]._java_obj.getRegParam()))"
   ]
  },
  {
   "cell_type": "code",
   "execution_count": 45,
   "metadata": {
    "scrolled": true
   },
   "outputs": [
    {
     "name": "stdout",
     "output_type": "stream",
     "text": [
      "+-----+--------------------+--------------------+----------+-----------+\n",
      "|label|            features|       rawPrediction|prediction|prob_of_one|\n",
      "+-----+--------------------+--------------------+----------+-----------+\n",
      "|    0|[1.40318950943545...|[1.06879752804605...|       0.0| -1.0687975|\n",
      "|    0|[1.40318950943545...|[0.87585717645758...|       0.0| -0.8758572|\n",
      "|    0|[1.40318950943545...|[1.40447139249621...|       0.0| -1.4044714|\n",
      "|    0|[1.40318950943545...|[1.05621249373544...|       0.0| -1.0562125|\n",
      "|    0|[1.40318950943545...|[0.94546532855054...|       0.0| -0.9454653|\n",
      "+-----+--------------------+--------------------+----------+-----------+\n",
      "only showing top 5 rows\n",
      "\n"
     ]
    }
   ],
   "source": [
    "svm_model_train = svm_model.transform(scaled_training)\n",
    "\n",
    "firstelement = udf(lambda v:float(v[1]),FloatType())\n",
    "\n",
    "svm_model_train = svm_model_train.withColumn(\"prob_of_one\", firstelement(svm_model_train[\"rawPrediction\"]))\n",
    "\n",
    "svm_model_train.show(5)"
   ]
  },
  {
   "cell_type": "code",
   "execution_count": 46,
   "metadata": {},
   "outputs": [
    {
     "name": "stdout",
     "output_type": "stream",
     "text": [
      "+--------+---------+\n",
      "|     max|      min|\n",
      "+--------+---------+\n",
      "|6.786682|-5.130853|\n",
      "+--------+---------+\n",
      "\n"
     ]
    }
   ],
   "source": [
    "svm_model_train.selectExpr(\"MAX(prob_of_one) as max\", \"MIN(prob_of_one) as min\").show()"
   ]
  },
  {
   "cell_type": "code",
   "execution_count": 47,
   "metadata": {},
   "outputs": [
    {
     "name": "stdout",
     "output_type": "stream",
     "text": [
      "Optimal threshold to maximize revenue from options provided is: -2.0\n",
      "Estimated net revenue generated with best threshold is: $1,642,034.17\n"
     ]
    },
    {
     "data": {
      "image/png": "[encoded data removed]",
      "text/plain": [
       "<Figure size 432x288 with 1 Axes>"
      ]
     },
     "metadata": {
      "needs_background": "light"
     },
     "output_type": "display_data"
    }
   ],
   "source": [
    "thresh = np.linspace(-10, 0, 11)\n",
    "rev_out_svm = net_rev(svm_model_train, thresh)"
   ]
  },
  {
   "cell_type": "code",
   "execution_count": 48,
   "metadata": {},
   "outputs": [
    {
     "name": "stdout",
     "output_type": "stream",
     "text": [
      "Optimal threshold to maximize revenue from options provided is: -1.2\n",
      "Estimated net revenue generated with best threshold is: $1,719,729.16\n"
     ]
    },
    {
     "data": {
      "image/png": "[encoded data removed]",
      "text/plain": [
       "<Figure size 432x288 with 1 Axes>"
      ]
     },
     "metadata": {
      "needs_background": "light"
     },
     "output_type": "display_data"
    }
   ],
   "source": [
    "thresh = np.linspace(-3, -1, 11)\n",
    "rev_out_svm = net_rev(svm_model_train, thresh)"
   ]
  },
  {
   "cell_type": "code",
   "execution_count": 49,
   "metadata": {},
   "outputs": [
    {
     "name": "stdout",
     "output_type": "stream",
     "text": [
      "+-----+--------------------+--------------------+----------+-----------+\n",
      "|label|            features|       rawPrediction|prediction|prob_of_one|\n",
      "+-----+--------------------+--------------------+----------+-----------+\n",
      "|    0|[1.40318950943545...|[0.88693729786396...|       0.0| -0.8869373|\n",
      "|    0|[1.40318950943545...|[0.96650262029906...|       0.0| -0.9665026|\n",
      "|    0|[1.40318950943545...|[0.84483129849850...|       0.0| -0.8448313|\n",
      "|    0|[1.40318950943545...|[1.01762735378767...|       0.0| -1.0176274|\n",
      "|    0|[1.40318950943545...|[0.80567584171932...|       0.0|-0.80567586|\n",
      "+-----+--------------------+--------------------+----------+-----------+\n",
      "only showing top 5 rows\n",
      "\n"
     ]
    }
   ],
   "source": [
    "svm_preds = svm_model.transform(scaled_test)\n",
    "\n",
    "firstelement = udf(lambda v:float(v[1]),FloatType())\n",
    "\n",
    "svm_preds = svm_preds.withColumn(\"prob_of_one\", firstelement(svm_preds[\"rawPrediction\"]))\n",
    "\n",
    "svm_preds.show(5)"
   ]
  },
  {
   "cell_type": "code",
   "execution_count": 50,
   "metadata": {},
   "outputs": [
    {
     "name": "stdout",
     "output_type": "stream",
     "text": [
      "Estimated net revenue generated with given threshold is: $564,883.29\n"
     ]
    }
   ],
   "source": [
    "# calc revenue with chosen threshold\n",
    "svm_test_rev = net_rev(svm_preds, -1.2)"
   ]
  },
  {
   "cell_type": "markdown",
   "metadata": {},
   "source": [
    "## Model Comparison & Evaluation on Test Set"
   ]
  },
  {
   "cell_type": "code",
   "execution_count": 51,
   "metadata": {},
   "outputs": [],
   "source": [
    "test_rev_df = pd.DataFrame(\n",
    "    columns = [\"model\", \"net revenue at optimal threshold\", \"rev_format\"],\n",
    "    data = [\n",
    "        [\"logistic\", log_test_rev, locale.currency(log_test_rev, grouping = True)],\n",
    "        [\"random forest\", rf_test_rev, locale.currency(rf_test_rev, grouping = True)],\n",
    "        [\"svm\", svm_test_rev, locale.currency(svm_test_rev, grouping = True)]\n",
    "    ]\n",
    ")"
   ]
  },
  {
   "cell_type": "code",
   "execution_count": 52,
   "metadata": {},
   "outputs": [
    {
     "data": {
      "application/vnd.plotly.v1+json": {
       "config": {
        "plotlyServerURL": "https://plot.ly"
       },
       "data": [
        {
         "alignmentgroup": "True",
         "hovertemplate": "model=%{x}<br>net revenue at optimal threshold=%{y}<br>rev_format=%{text}<extra></extra>",
         "legendgroup": "",
         "marker": {
          "color": [
           "#eb5600",
           "#1a9988",
           "#eb5600"
          ]
         },
         "name": "",
         "offsetgroup": "",
         "orientation": "v",
         "showlegend": false,
         "text": [
          "$567,439.18",
          "$645,689.70",
          "$564,883.29"
         ],
         "textposition": "auto",
         "type": "bar",
         "x": [
          "logistic",
          "random forest",
          "svm"
         ],
         "xaxis": "x",
         "y": [
          567439.17566,
          645689.6975731999,
          564883.2918148
         ],
         "yaxis": "y"
        }
       ],
       "layout": {
        "barmode": "relative",
        "legend": {
         "tracegroupgap": 0
        },
        "margin": {
         "t": 60
        },
        "template": {
         "data": {
          "bar": [
           {
            "error_x": {
             "color": "#2a3f5f"
            },
            "error_y": {
             "color": "#2a3f5f"
            },
            "marker": {
             "line": {
              "color": "#E5ECF6",
              "width": 0.5
             }
            },
            "type": "bar"
           }
          ],
          "barpolar": [
           {
            "marker": {
             "line": {
              "color": "#E5ECF6",
              "width": 0.5
             }
            },
            "type": "barpolar"
           }
          ],
          "carpet": [
           {
            "aaxis": {
             "endlinecolor": "#2a3f5f",
             "gridcolor": "white",
             "linecolor": "white",
             "minorgridcolor": "white",
             "startlinecolor": "#2a3f5f"
            },
            "baxis": {
             "endlinecolor": "#2a3f5f",
             "gridcolor": "white",
             "linecolor": "white",
             "minorgridcolor": "white",
             "startlinecolor": "#2a3f5f"
            },
            "type": "carpet"
           }
          ],
          "choropleth": [
           {
            "colorbar": {
             "outlinewidth": 0,
             "ticks": ""
            },
            "type": "choropleth"
           }
          ],
          "contour": [
           {
            "colorbar": {
             "outlinewidth": 0,
             "ticks": ""
            },
            "colorscale": [
             [
              0,
              "#0d0887"
             ],
             [
              0.1111111111111111,
              "#46039f"
             ],
             [
              0.2222222222222222,
              "#7201a8"
             ],
             [
              0.3333333333333333,
              "#9c179e"
             ],
             [
              0.4444444444444444,
              "#bd3786"
             ],
             [
              0.5555555555555556,
              "#d8576b"
             ],
             [
              0.6666666666666666,
              "#ed7953"
             ],
             [
              0.7777777777777778,
              "#fb9f3a"
             ],
             [
              0.8888888888888888,
              "#fdca26"
             ],
             [
              1,
              "#f0f921"
             ]
            ],
            "type": "contour"
           }
          ],
          "contourcarpet": [
           {
            "colorbar": {
             "outlinewidth": 0,
             "ticks": ""
            },
            "type": "contourcarpet"
           }
          ],
          "heatmap": [
           {
            "colorbar": {
             "outlinewidth": 0,
             "ticks": ""
            },
            "colorscale": [
             [
              0,
              "#0d0887"
             ],
             [
              0.1111111111111111,
              "#46039f"
             ],
             [
              0.2222222222222222,
              "#7201a8"
             ],
             [
              0.3333333333333333,
              "#9c179e"
             ],
             [
              0.4444444444444444,
              "#bd3786"
             ],
             [
              0.5555555555555556,
              "#d8576b"
             ],
             [
              0.6666666666666666,
              "#ed7953"
             ],
             [
              0.7777777777777778,
              "#fb9f3a"
             ],
             [
              0.8888888888888888,
              "#fdca26"
             ],
             [
              1,
              "#f0f921"
             ]
            ],
            "type": "heatmap"
           }
          ],
          "heatmapgl": [
           {
            "colorbar": {
             "outlinewidth": 0,
             "ticks": ""
            },
            "colorscale": [
             [
              0,
              "#0d0887"
             ],
             [
              0.1111111111111111,
              "#46039f"
             ],
             [
              0.2222222222222222,
              "#7201a8"
             ],
             [
              0.3333333333333333,
              "#9c179e"
             ],
             [
              0.4444444444444444,
              "#bd3786"
             ],
             [
              0.5555555555555556,
              "#d8576b"
             ],
             [
              0.6666666666666666,
              "#ed7953"
             ],
             [
              0.7777777777777778,
              "#fb9f3a"
             ],
             [
              0.8888888888888888,
              "#fdca26"
             ],
             [
              1,
              "#f0f921"
             ]
            ],
            "type": "heatmapgl"
           }
          ],
          "histogram": [
           {
            "marker": {
             "colorbar": {
              "outlinewidth": 0,
              "ticks": ""
             }
            },
            "type": "histogram"
           }
          ],
          "histogram2d": [
           {
            "colorbar": {
             "outlinewidth": 0,
             "ticks": ""
            },
            "colorscale": [
             [
              0,
              "#0d0887"
             ],
             [
              0.1111111111111111,
              "#46039f"
             ],
             [
              0.2222222222222222,
              "#7201a8"
             ],
             [
              0.3333333333333333,
              "#9c179e"
             ],
             [
              0.4444444444444444,
              "#bd3786"
             ],
             [
              0.5555555555555556,
              "#d8576b"
             ],
             [
              0.6666666666666666,
              "#ed7953"
             ],
             [
              0.7777777777777778,
              "#fb9f3a"
             ],
             [
              0.8888888888888888,
              "#fdca26"
             ],
             [
              1,
              "#f0f921"
             ]
            ],
            "type": "histogram2d"
           }
          ],
          "histogram2dcontour": [
           {
            "colorbar": {
             "outlinewidth": 0,
             "ticks": ""
            },
            "colorscale": [
             [
              0,
              "#0d0887"
             ],
             [
              0.1111111111111111,
              "#46039f"
             ],
             [
              0.2222222222222222,
              "#7201a8"
             ],
             [
              0.3333333333333333,
              "#9c179e"
             ],
             [
              0.4444444444444444,
              "#bd3786"
             ],
             [
              0.5555555555555556,
              "#d8576b"
             ],
             [
              0.6666666666666666,
              "#ed7953"
             ],
             [
              0.7777777777777778,
              "#fb9f3a"
             ],
             [
              0.8888888888888888,
              "#fdca26"
             ],
             [
              1,
              "#f0f921"
             ]
            ],
            "type": "histogram2dcontour"
           }
          ],
          "mesh3d": [
           {
            "colorbar": {
             "outlinewidth": 0,
             "ticks": ""
            },
            "type": "mesh3d"
           }
          ],
          "parcoords": [
           {
            "line": {
             "colorbar": {
              "outlinewidth": 0,
              "ticks": ""
             }
            },
            "type": "parcoords"
           }
          ],
          "pie": [
           {
            "automargin": true,
            "type": "pie"
           }
          ],
          "scatter": [
           {
            "marker": {
             "colorbar": {
              "outlinewidth": 0,
              "ticks": ""
             }
            },
            "type": "scatter"
           }
          ],
          "scatter3d": [
           {
            "line": {
             "colorbar": {
              "outlinewidth": 0,
              "ticks": ""
             }
            },
            "marker": {
             "colorbar": {
              "outlinewidth": 0,
              "ticks": ""
             }
            },
            "type": "scatter3d"
           }
          ],
          "scattercarpet": [
           {
            "marker": {
             "colorbar": {
              "outlinewidth": 0,
              "ticks": ""
             }
            },
            "type": "scattercarpet"
           }
          ],
          "scattergeo": [
           {
            "marker": {
             "colorbar": {
              "outlinewidth": 0,
              "ticks": ""
             }
            },
            "type": "scattergeo"
           }
          ],
          "scattergl": [
           {
            "marker": {
             "colorbar": {
              "outlinewidth": 0,
              "ticks": ""
             }
            },
            "type": "scattergl"
           }
          ],
          "scattermapbox": [
           {
            "marker": {
             "colorbar": {
              "outlinewidth": 0,
              "ticks": ""
             }
            },
            "type": "scattermapbox"
           }
          ],
          "scatterpolar": [
           {
            "marker": {
             "colorbar": {
              "outlinewidth": 0,
              "ticks": ""
             }
            },
            "type": "scatterpolar"
           }
          ],
          "scatterpolargl": [
           {
            "marker": {
             "colorbar": {
              "outlinewidth": 0,
              "ticks": ""
             }
            },
            "type": "scatterpolargl"
           }
          ],
          "scatterternary": [
           {
            "marker": {
             "colorbar": {
              "outlinewidth": 0,
              "ticks": ""
             }
            },
            "type": "scatterternary"
           }
          ],
          "surface": [
           {
            "colorbar": {
             "outlinewidth": 0,
             "ticks": ""
            },
            "colorscale": [
             [
              0,
              "#0d0887"
             ],
             [
              0.1111111111111111,
              "#46039f"
             ],
             [
              0.2222222222222222,
              "#7201a8"
             ],
             [
              0.3333333333333333,
              "#9c179e"
             ],
             [
              0.4444444444444444,
              "#bd3786"
             ],
             [
              0.5555555555555556,
              "#d8576b"
             ],
             [
              0.6666666666666666,
              "#ed7953"
             ],
             [
              0.7777777777777778,
              "#fb9f3a"
             ],
             [
              0.8888888888888888,
              "#fdca26"
             ],
             [
              1,
              "#f0f921"
             ]
            ],
            "type": "surface"
           }
          ],
          "table": [
           {
            "cells": {
             "fill": {
              "color": "#EBF0F8"
             },
             "line": {
              "color": "white"
             }
            },
            "header": {
             "fill": {
              "color": "#C8D4E3"
             },
             "line": {
              "color": "white"
             }
            },
            "type": "table"
           }
          ]
         },
         "layout": {
          "annotationdefaults": {
           "arrowcolor": "#2a3f5f",
           "arrowhead": 0,
           "arrowwidth": 1
          },
          "coloraxis": {
           "colorbar": {
            "outlinewidth": 0,
            "ticks": ""
           }
          },
          "colorscale": {
           "diverging": [
            [
             0,
             "#8e0152"
            ],
            [
             0.1,
             "#c51b7d"
            ],
            [
             0.2,
             "#de77ae"
            ],
            [
             0.3,
             "#f1b6da"
            ],
            [
             0.4,
             "#fde0ef"
            ],
            [
             0.5,
             "#f7f7f7"
            ],
            [
             0.6,
             "#e6f5d0"
            ],
            [
             0.7,
             "#b8e186"
            ],
            [
             0.8,
             "#7fbc41"
            ],
            [
             0.9,
             "#4d9221"
            ],
            [
             1,
             "#276419"
            ]
           ],
           "sequential": [
            [
             0,
             "#0d0887"
            ],
            [
             0.1111111111111111,
             "#46039f"
            ],
            [
             0.2222222222222222,
             "#7201a8"
            ],
            [
             0.3333333333333333,
             "#9c179e"
            ],
            [
             0.4444444444444444,
             "#bd3786"
            ],
            [
             0.5555555555555556,
             "#d8576b"
            ],
            [
             0.6666666666666666,
             "#ed7953"
            ],
            [
             0.7777777777777778,
             "#fb9f3a"
            ],
            [
             0.8888888888888888,
             "#fdca26"
            ],
            [
             1,
             "#f0f921"
            ]
           ],
           "sequentialminus": [
            [
             0,
             "#0d0887"
            ],
            [
             0.1111111111111111,
             "#46039f"
            ],
            [
             0.2222222222222222,
             "#7201a8"
            ],
            [
             0.3333333333333333,
             "#9c179e"
            ],
            [
             0.4444444444444444,
             "#bd3786"
            ],
            [
             0.5555555555555556,
             "#d8576b"
            ],
            [
             0.6666666666666666,
             "#ed7953"
            ],
            [
             0.7777777777777778,
             "#fb9f3a"
            ],
            [
             0.8888888888888888,
             "#fdca26"
            ],
            [
             1,
             "#f0f921"
            ]
           ]
          },
          "colorway": [
           "#636efa",
           "#EF553B",
           "#00cc96",
           "#ab63fa",
           "#FFA15A",
           "#19d3f3",
           "#FF6692",
           "#B6E880",
           "#FF97FF",
           "#FECB52"
          ],
          "font": {
           "color": "#2a3f5f"
          },
          "geo": {
           "bgcolor": "white",
           "lakecolor": "white",
           "landcolor": "#E5ECF6",
           "showlakes": true,
           "showland": true,
           "subunitcolor": "white"
          },
          "hoverlabel": {
           "align": "left"
          },
          "hovermode": "closest",
          "mapbox": {
           "style": "light"
          },
          "paper_bgcolor": "white",
          "plot_bgcolor": "#E5ECF6",
          "polar": {
           "angularaxis": {
            "gridcolor": "white",
            "linecolor": "white",
            "ticks": ""
           },
           "bgcolor": "#E5ECF6",
           "radialaxis": {
            "gridcolor": "white",
            "linecolor": "white",
            "ticks": ""
           }
          },
          "scene": {
           "xaxis": {
            "backgroundcolor": "#E5ECF6",
            "gridcolor": "white",
            "gridwidth": 2,
            "linecolor": "white",
            "showbackground": true,
            "ticks": "",
            "zerolinecolor": "white"
           },
           "yaxis": {
            "backgroundcolor": "#E5ECF6",
            "gridcolor": "white",
            "gridwidth": 2,
            "linecolor": "white",
            "showbackground": true,
            "ticks": "",
            "zerolinecolor": "white"
           },
           "zaxis": {
            "backgroundcolor": "#E5ECF6",
            "gridcolor": "white",
            "gridwidth": 2,
            "linecolor": "white",
            "showbackground": true,
            "ticks": "",
            "zerolinecolor": "white"
           }
          },
          "shapedefaults": {
           "line": {
            "color": "#2a3f5f"
           }
          },
          "ternary": {
           "aaxis": {
            "gridcolor": "white",
            "linecolor": "white",
            "ticks": ""
           },
           "baxis": {
            "gridcolor": "white",
            "linecolor": "white",
            "ticks": ""
           },
           "bgcolor": "#E5ECF6",
           "caxis": {
            "gridcolor": "white",
            "linecolor": "white",
            "ticks": ""
           }
          },
          "title": {
           "x": 0.05
          },
          "xaxis": {
           "automargin": true,
           "gridcolor": "white",
           "linecolor": "white",
           "ticks": "",
           "title": {
            "standoff": 15
           },
           "zerolinecolor": "white",
           "zerolinewidth": 2
          },
          "yaxis": {
           "automargin": true,
           "gridcolor": "white",
           "linecolor": "white",
           "ticks": "",
           "title": {
            "standoff": 15
           },
           "zerolinecolor": "white",
           "zerolinewidth": 2
          }
         }
        },
        "xaxis": {
         "anchor": "y",
         "domain": [
          0,
          1
         ],
         "title": {
          "text": "model"
         }
        },
        "yaxis": {
         "anchor": "x",
         "domain": [
          0,
          1
         ],
         "title": {
          "text": "net revenue at optimal threshold"
         }
        }
       }
      },
      "text/html": [
       "<div>                            <div id=\"5a2e3b2c-c5d0-4d0c-b3e6-dc4f6d5ad781\" class=\"plotly-graph-div\" style=\"height:525px; width:100%;\"></div>            <script type=\"text/javascript\">                require([\"plotly\"], function(Plotly) {                    window.PLOTLYENV=window.PLOTLYENV || {};                                    if (document.getElementById(\"5a2e3b2c-c5d0-4d0c-b3e6-dc4f6d5ad781\")) {                    Plotly.newPlot(                        \"5a2e3b2c-c5d0-4d0c-b3e6-dc4f6d5ad781\",                        [{\"alignmentgroup\": \"True\", \"hovertemplate\": \"model=%{x}<br>net revenue at optimal threshold=%{y}<br>rev_format=%{text}<extra></extra>\", \"legendgroup\": \"\", \"marker\": {\"color\": [\"#eb5600\", \"#1a9988\", \"#eb5600\"]}, \"name\": \"\", \"offsetgroup\": \"\", \"orientation\": \"v\", \"showlegend\": false, \"text\": [\"$567,439.18\", \"$645,689.70\", \"$564,883.29\"], \"textposition\": \"auto\", \"type\": \"bar\", \"x\": [\"logistic\", \"random forest\", \"svm\"], \"xaxis\": \"x\", \"y\": [567439.17566, 645689.6975731999, 564883.2918148], \"yaxis\": \"y\"}],                        {\"barmode\": \"relative\", \"legend\": {\"tracegroupgap\": 0}, \"margin\": {\"t\": 60}, \"template\": {\"data\": {\"bar\": [{\"error_x\": {\"color\": \"#2a3f5f\"}, \"error_y\": {\"color\": \"#2a3f5f\"}, \"marker\": {\"line\": {\"color\": \"#E5ECF6\", \"width\": 0.5}}, \"type\": \"bar\"}], \"barpolar\": [{\"marker\": {\"line\": {\"color\": \"#E5ECF6\", \"width\": 0.5}}, \"type\": \"barpolar\"}], \"carpet\": [{\"aaxis\": {\"endlinecolor\": \"#2a3f5f\", \"gridcolor\": \"white\", \"linecolor\": \"white\", \"minorgridcolor\": \"white\", \"startlinecolor\": \"#2a3f5f\"}, \"baxis\": {\"endlinecolor\": \"#2a3f5f\", \"gridcolor\": \"white\", \"linecolor\": \"white\", \"minorgridcolor\": \"white\", \"startlinecolor\": \"#2a3f5f\"}, \"type\": \"carpet\"}], \"choropleth\": [{\"colorbar\": {\"outlinewidth\": 0, \"ticks\": \"\"}, \"type\": \"choropleth\"}], \"contour\": [{\"colorbar\": {\"outlinewidth\": 0, \"ticks\": \"\"}, \"colorscale\": [[0.0, \"#0d0887\"], [0.1111111111111111, \"#46039f\"], [0.2222222222222222, \"#7201a8\"], [0.3333333333333333, \"#9c179e\"], [0.4444444444444444, \"#bd3786\"], [0.5555555555555556, \"#d8576b\"], [0.6666666666666666, \"#ed7953\"], [0.7777777777777778, \"#fb9f3a\"], [0.8888888888888888, \"#fdca26\"], [1.0, \"#f0f921\"]], \"type\": \"contour\"}], \"contourcarpet\": [{\"colorbar\": {\"outlinewidth\": 0, \"ticks\": \"\"}, \"type\": \"contourcarpet\"}], \"heatmap\": [{\"colorbar\": {\"outlinewidth\": 0, \"ticks\": \"\"}, \"colorscale\": [[0.0, \"#0d0887\"], [0.1111111111111111, \"#46039f\"], [0.2222222222222222, \"#7201a8\"], [0.3333333333333333, \"#9c179e\"], [0.4444444444444444, \"#bd3786\"], [0.5555555555555556, \"#d8576b\"], [0.6666666666666666, \"#ed7953\"], [0.7777777777777778, \"#fb9f3a\"], [0.8888888888888888, \"#fdca26\"], [1.0, \"#f0f921\"]], \"type\": \"heatmap\"}], \"heatmapgl\": [{\"colorbar\": {\"outlinewidth\": 0, \"ticks\": \"\"}, \"colorscale\": [[0.0, \"#0d0887\"], [0.1111111111111111, \"#46039f\"], [0.2222222222222222, \"#7201a8\"], [0.3333333333333333, \"#9c179e\"], [0.4444444444444444, \"#bd3786\"], [0.5555555555555556, \"#d8576b\"], [0.6666666666666666, \"#ed7953\"], [0.7777777777777778, \"#fb9f3a\"], [0.8888888888888888, \"#fdca26\"], [1.0, \"#f0f921\"]], \"type\": \"heatmapgl\"}], \"histogram\": [{\"marker\": {\"colorbar\": {\"outlinewidth\": 0, \"ticks\": \"\"}}, \"type\": \"histogram\"}], \"histogram2d\": [{\"colorbar\": {\"outlinewidth\": 0, \"ticks\": \"\"}, \"colorscale\": [[0.0, \"#0d0887\"], [0.1111111111111111, \"#46039f\"], [0.2222222222222222, \"#7201a8\"], [0.3333333333333333, \"#9c179e\"], [0.4444444444444444, \"#bd3786\"], [0.5555555555555556, \"#d8576b\"], [0.6666666666666666, \"#ed7953\"], [0.7777777777777778, \"#fb9f3a\"], [0.8888888888888888, \"#fdca26\"], [1.0, \"#f0f921\"]], \"type\": \"histogram2d\"}], \"histogram2dcontour\": [{\"colorbar\": {\"outlinewidth\": 0, \"ticks\": \"\"}, \"colorscale\": [[0.0, \"#0d0887\"], [0.1111111111111111, \"#46039f\"], [0.2222222222222222, \"#7201a8\"], [0.3333333333333333, \"#9c179e\"], [0.4444444444444444, \"#bd3786\"], [0.5555555555555556, \"#d8576b\"], [0.6666666666666666, \"#ed7953\"], [0.7777777777777778, \"#fb9f3a\"], [0.8888888888888888, \"#fdca26\"], [1.0, \"#f0f921\"]], \"type\": \"histogram2dcontour\"}], \"mesh3d\": [{\"colorbar\": {\"outlinewidth\": 0, \"ticks\": \"\"}, \"type\": \"mesh3d\"}], \"parcoords\": [{\"line\": {\"colorbar\": {\"outlinewidth\": 0, \"ticks\": \"\"}}, \"type\": \"parcoords\"}], \"pie\": [{\"automargin\": true, \"type\": \"pie\"}], \"scatter\": [{\"marker\": {\"colorbar\": {\"outlinewidth\": 0, \"ticks\": \"\"}}, \"type\": \"scatter\"}], \"scatter3d\": [{\"line\": {\"colorbar\": {\"outlinewidth\": 0, \"ticks\": \"\"}}, \"marker\": {\"colorbar\": {\"outlinewidth\": 0, \"ticks\": \"\"}}, \"type\": \"scatter3d\"}], \"scattercarpet\": [{\"marker\": {\"colorbar\": {\"outlinewidth\": 0, \"ticks\": \"\"}}, \"type\": \"scattercarpet\"}], \"scattergeo\": [{\"marker\": {\"colorbar\": {\"outlinewidth\": 0, \"ticks\": \"\"}}, \"type\": \"scattergeo\"}], \"scattergl\": [{\"marker\": {\"colorbar\": {\"outlinewidth\": 0, \"ticks\": \"\"}}, \"type\": \"scattergl\"}], \"scattermapbox\": [{\"marker\": {\"colorbar\": {\"outlinewidth\": 0, \"ticks\": \"\"}}, \"type\": \"scattermapbox\"}], \"scatterpolar\": [{\"marker\": {\"colorbar\": {\"outlinewidth\": 0, \"ticks\": \"\"}}, \"type\": \"scatterpolar\"}], \"scatterpolargl\": [{\"marker\": {\"colorbar\": {\"outlinewidth\": 0, \"ticks\": \"\"}}, \"type\": \"scatterpolargl\"}], \"scatterternary\": [{\"marker\": {\"colorbar\": {\"outlinewidth\": 0, \"ticks\": \"\"}}, \"type\": \"scatterternary\"}], \"surface\": [{\"colorbar\": {\"outlinewidth\": 0, \"ticks\": \"\"}, \"colorscale\": [[0.0, \"#0d0887\"], [0.1111111111111111, \"#46039f\"], [0.2222222222222222, \"#7201a8\"], [0.3333333333333333, \"#9c179e\"], [0.4444444444444444, \"#bd3786\"], [0.5555555555555556, \"#d8576b\"], [0.6666666666666666, \"#ed7953\"], [0.7777777777777778, \"#fb9f3a\"], [0.8888888888888888, \"#fdca26\"], [1.0, \"#f0f921\"]], \"type\": \"surface\"}], \"table\": [{\"cells\": {\"fill\": {\"color\": \"#EBF0F8\"}, \"line\": {\"color\": \"white\"}}, \"header\": {\"fill\": {\"color\": \"#C8D4E3\"}, \"line\": {\"color\": \"white\"}}, \"type\": \"table\"}]}, \"layout\": {\"annotationdefaults\": {\"arrowcolor\": \"#2a3f5f\", \"arrowhead\": 0, \"arrowwidth\": 1}, \"coloraxis\": {\"colorbar\": {\"outlinewidth\": 0, \"ticks\": \"\"}}, \"colorscale\": {\"diverging\": [[0, \"#8e0152\"], [0.1, \"#c51b7d\"], [0.2, \"#de77ae\"], [0.3, \"#f1b6da\"], [0.4, \"#fde0ef\"], [0.5, \"#f7f7f7\"], [0.6, \"#e6f5d0\"], [0.7, \"#b8e186\"], [0.8, \"#7fbc41\"], [0.9, \"#4d9221\"], [1, \"#276419\"]], \"sequential\": [[0.0, \"#0d0887\"], [0.1111111111111111, \"#46039f\"], [0.2222222222222222, \"#7201a8\"], [0.3333333333333333, \"#9c179e\"], [0.4444444444444444, \"#bd3786\"], [0.5555555555555556, \"#d8576b\"], [0.6666666666666666, \"#ed7953\"], [0.7777777777777778, \"#fb9f3a\"], [0.8888888888888888, \"#fdca26\"], [1.0, \"#f0f921\"]], \"sequentialminus\": [[0.0, \"#0d0887\"], [0.1111111111111111, \"#46039f\"], [0.2222222222222222, \"#7201a8\"], [0.3333333333333333, \"#9c179e\"], [0.4444444444444444, \"#bd3786\"], [0.5555555555555556, \"#d8576b\"], [0.6666666666666666, \"#ed7953\"], [0.7777777777777778, \"#fb9f3a\"], [0.8888888888888888, \"#fdca26\"], [1.0, \"#f0f921\"]]}, \"colorway\": [\"#636efa\", \"#EF553B\", \"#00cc96\", \"#ab63fa\", \"#FFA15A\", \"#19d3f3\", \"#FF6692\", \"#B6E880\", \"#FF97FF\", \"#FECB52\"], \"font\": {\"color\": \"#2a3f5f\"}, \"geo\": {\"bgcolor\": \"white\", \"lakecolor\": \"white\", \"landcolor\": \"#E5ECF6\", \"showlakes\": true, \"showland\": true, \"subunitcolor\": \"white\"}, \"hoverlabel\": {\"align\": \"left\"}, \"hovermode\": \"closest\", \"mapbox\": {\"style\": \"light\"}, \"paper_bgcolor\": \"white\", \"plot_bgcolor\": \"#E5ECF6\", \"polar\": {\"angularaxis\": {\"gridcolor\": \"white\", \"linecolor\": \"white\", \"ticks\": \"\"}, \"bgcolor\": \"#E5ECF6\", \"radialaxis\": {\"gridcolor\": \"white\", \"linecolor\": \"white\", \"ticks\": \"\"}}, \"scene\": {\"xaxis\": {\"backgroundcolor\": \"#E5ECF6\", \"gridcolor\": \"white\", \"gridwidth\": 2, \"linecolor\": \"white\", \"showbackground\": true, \"ticks\": \"\", \"zerolinecolor\": \"white\"}, \"yaxis\": {\"backgroundcolor\": \"#E5ECF6\", \"gridcolor\": \"white\", \"gridwidth\": 2, \"linecolor\": \"white\", \"showbackground\": true, \"ticks\": \"\", \"zerolinecolor\": \"white\"}, \"zaxis\": {\"backgroundcolor\": \"#E5ECF6\", \"gridcolor\": \"white\", \"gridwidth\": 2, \"linecolor\": \"white\", \"showbackground\": true, \"ticks\": \"\", \"zerolinecolor\": \"white\"}}, \"shapedefaults\": {\"line\": {\"color\": \"#2a3f5f\"}}, \"ternary\": {\"aaxis\": {\"gridcolor\": \"white\", \"linecolor\": \"white\", \"ticks\": \"\"}, \"baxis\": {\"gridcolor\": \"white\", \"linecolor\": \"white\", \"ticks\": \"\"}, \"bgcolor\": \"#E5ECF6\", \"caxis\": {\"gridcolor\": \"white\", \"linecolor\": \"white\", \"ticks\": \"\"}}, \"title\": {\"x\": 0.05}, \"xaxis\": {\"automargin\": true, \"gridcolor\": \"white\", \"linecolor\": \"white\", \"ticks\": \"\", \"title\": {\"standoff\": 15}, \"zerolinecolor\": \"white\", \"zerolinewidth\": 2}, \"yaxis\": {\"automargin\": true, \"gridcolor\": \"white\", \"linecolor\": \"white\", \"ticks\": \"\", \"title\": {\"standoff\": 15}, \"zerolinecolor\": \"white\", \"zerolinewidth\": 2}}}, \"xaxis\": {\"anchor\": \"y\", \"domain\": [0.0, 1.0], \"title\": {\"text\": \"model\"}}, \"yaxis\": {\"anchor\": \"x\", \"domain\": [0.0, 1.0], \"title\": {\"text\": \"net revenue at optimal threshold\"}}},                        {\"responsive\": true}                    ).then(function(){\n",
       "                            \n",
       "var gd = document.getElementById('5a2e3b2c-c5d0-4d0c-b3e6-dc4f6d5ad781');\n",
       "var x = new MutationObserver(function (mutations, observer) {{\n",
       "        var display = window.getComputedStyle(gd).display;\n",
       "        if (!display || display === 'none') {{\n",
       "            console.log([gd, 'removed!']);\n",
       "            Plotly.purge(gd);\n",
       "            observer.disconnect();\n",
       "        }}\n",
       "}});\n",
       "\n",
       "// Listen for the removal of the full notebook cells\n",
       "var notebookContainer = gd.closest('#notebook-container');\n",
       "if (notebookContainer) {{\n",
       "    x.observe(notebookContainer, {childList: true});\n",
       "}}\n",
       "\n",
       "// Listen for the clearing of the current output cell\n",
       "var outputEl = gd.closest('.output');\n",
       "if (outputEl) {{\n",
       "    x.observe(outputEl, {childList: true});\n",
       "}}\n",
       "\n",
       "                        })                };                });            </script>        </div>"
      ]
     },
     "metadata": {},
     "output_type": "display_data"
    }
   ],
   "source": [
    "fig = px.bar(test_rev_df, x='model', y='net revenue at optimal threshold', text = \"rev_format\")\n",
    "fig.update_layout(template = \"plotly\")\n",
    "fig.update_traces(marker_color=['#eb5600', '#1a9988', '#eb5600'])\n",
    "fig.show()"
   ]
  },
  {
   "cell_type": "code",
   "execution_count": 53,
   "metadata": {},
   "outputs": [],
   "source": [
    "fig.write_image(\"rev_out.jpg\", height = 500, width =900)"
   ]
  },
  {
   "cell_type": "markdown",
   "metadata": {},
   "source": [
    "## Deploy Champion Model on Validation Set"
   ]
  },
  {
   "cell_type": "code",
   "execution_count": 54,
   "metadata": {},
   "outputs": [
    {
     "name": "stdout",
     "output_type": "stream",
     "text": [
      "+-----+--------------------+--------------------+--------------------+----------+-----------+\n",
      "|label|            features|       rawPrediction|         probability|prediction|prob_of_one|\n",
      "+-----+--------------------+--------------------+--------------------+----------+-----------+\n",
      "|    0|(29,[1,2,3,4,5,6,...|[98.6546272665825...|[0.98654627266582...|       0.0|0.013453728|\n",
      "|    0|(29,[1,2,3,4,5,6,...|[97.4005530653766...|[0.97400553065376...|       0.0|0.025994468|\n",
      "|    0|(29,[1,2,3,4,5,6,...|[98.6546272665825...|[0.98654627266582...|       0.0|0.013453728|\n",
      "|    0|(29,[1,2,3,4,5,6,...|[98.7544152822984...|[0.98754415282298...|       0.0|0.012455847|\n",
      "|    0|(29,[1,2,3,4,5,6,...|[80.9547473177963...|[0.80954747317796...|       0.0| 0.19045253|\n",
      "+-----+--------------------+--------------------+--------------------+----------+-----------+\n",
      "only showing top 5 rows\n",
      "\n"
     ]
    }
   ],
   "source": [
    "rf_preds_val = rf_model.transform(validation_data)\n",
    "\n",
    "firstelement = udf(lambda v:float(v[1]),FloatType())\n",
    "\n",
    "rf_preds_val = rf_preds_val.withColumn(\"prob_of_one\", firstelement(rf_preds_val[\"probability\"]))\n",
    "\n",
    "rf_preds_val.show(5)"
   ]
  },
  {
   "cell_type": "code",
   "execution_count": 55,
   "metadata": {},
   "outputs": [
    {
     "name": "stdout",
     "output_type": "stream",
     "text": [
      "Estimated net revenue generated with given threshold is: $679,253.49\n"
     ]
    }
   ],
   "source": [
    "# calc additional revenue with chosen threshold and RF model on validation set\n",
    "rf_validation_rev = net_rev(rf_preds_val, 0.24)"
   ]
  }
 ],
 "metadata": {
  "kernelspec": {
   "display_name": "Python 3",
   "language": "python",
   "name": "python3"
  },
  "language_info": {
   "codemirror_mode": {
    "name": "ipython",
    "version": 3
   },
   "file_extension": ".py",
   "mimetype": "text/x-python",
   "name": "python",
   "nbconvert_exporter": "python",
   "pygments_lexer": "ipython3",
   "version": "3.7.10"
  },
  "varInspector": {
   "cols": {
    "lenName": 16,
    "lenType": 16,
    "lenVar": 40
   },
   "kernels_config": {
    "python": {
     "delete_cmd_postfix": "",
     "delete_cmd_prefix": "del ",
     "library": "var_list.py",
     "varRefreshCmd": "print(var_dic_list())"
    },
    "r": {
     "delete_cmd_postfix": ") ",
     "delete_cmd_prefix": "rm(",
     "library": "var_list.r",
     "varRefreshCmd": "cat(var_dic_list()) "
    }
   },
   "types_to_exclude": [
    "module",
    "function",
    "builtin_function_or_method",
    "instance",
    "_Feature"
   ],
   "window_display": true
  }
 },
 "nbformat": 4,
 "nbformat_minor": 4
}
